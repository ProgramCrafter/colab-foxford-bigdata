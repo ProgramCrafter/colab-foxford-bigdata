{
  "nbformat": 4,
  "nbformat_minor": 0,
  "metadata": {
    "colab": {
      "name": "Короткова \"Занятие №3.ipynb\"",
      "provenance": [],
      "collapsed_sections": [],
      "toc_visible": true,
      "include_colab_link": true
    },
    "kernelspec": {
      "name": "python3",
      "display_name": "Python 3"
    },
    "language_info": {
      "name": "python"
    }
  },
  "cells": [
    {
      "cell_type": "markdown",
      "metadata": {
        "id": "view-in-github",
        "colab_type": "text"
      },
      "source": [
        "<a href=\"https://colab.research.google.com/github/ProgramCrafter/colab-foxford-bigdata/blob/master/%D0%9A%D0%BE%D1%80%D0%BE%D1%82%D0%BA%D0%BE%D0%B2%D0%B0_%22%D0%97%D0%B0%D0%BD%D1%8F%D1%82%D0%B8%D0%B5_%E2%84%963_ipynb%22.ipynb\" target=\"_parent\"><img src=\"https://colab.research.google.com/assets/colab-badge.svg\" alt=\"Open In Colab\"/></a>"
      ]
    },
    {
      "cell_type": "markdown",
      "metadata": {
        "id": "goKCGXSUoln1"
      },
      "source": [
        "<p><img src=\"https://u.foxford.ngcdn.ru/uploads/inner_file/file/95804/pre3.jpg\"></p>"
      ]
    },
    {
      "cell_type": "markdown",
      "metadata": {
        "id": "fTAUCMGRqM75"
      },
      "source": [
        "___\n",
        "\n",
        "<font color=\"#000000\">Основы Python и глубокого обучения</font>\n",
        "<font color=\"#AEBAC5\"> → </font>\n",
        "<font color=\"#AEBAC5\">Компьютерное зрение (CV)</font>\n",
        "<font color=\"#AEBAC5\"> → </font>\n",
        "<font color=\"#AEBAC5\">Обработка естественного языка (NLP)</font>\n",
        "\n",
        "___"
      ]
    },
    {
      "cell_type": "markdown",
      "metadata": {
        "id": "klyC-PY21zvE"
      },
      "source": [
        "<h1><strong><font color=\"#FF732B\">Набор данных</font></strong></h1>"
      ]
    },
    {
      "cell_type": "markdown",
      "metadata": {
        "id": "Q-5_GaJ917qw"
      },
      "source": [
        "| Стоимость, млн $ | Название | Художник | Год продажи | Аукционный дом |\n",
        "--- | --- | --- | --- | ---\n",
        "| 478.1 | Спаситель мира | Леонардо да Винчи 🇮🇹 | 2017 | Christie’s |\n",
        "| 194.5 | Алжирские женщины («Версия O») | Пабло Пикассо 🇪🇸 | 2015 | Christie’s |\n",
        "| 184.8 | Обнаженная, лежащая на левом боку | Амедео Модильяни 🇮🇹 | 2015 | Christie’s |\n",
        "| 163.0 | Лежащая обнажённая | Амедео Модильяни 🇮🇹 | 2018 | Sotheby’s |\n",
        "| 149.6 | Двенадцать ландшафтных сцен | Ци Байши 🇨🇳 | 2017 | Другой |\n",
        "| 141.9 | Три наброска к портрету Люсьена Фрейда | Фрэнсис Бэкон 🇬🇧 | 2013 | Christie’s |\n",
        "| 121.3 | Крик, 1895 | Эдвард Мунк 🇳🇴 | 2012 | Sotheby’s |\n",
        "| 119.2 | Молодая девушка с цветочной корзиной | Пабло Пикассо 🇪🇸 | 2018 | Christie’s |\n",
        "| 117.3 | Без названия (1982) | Жан-Мишель Баския 🇺🇸 | 2017 | Sotheby’s |\n",
        "| 112.7 | Стога сена | Клод Моне 🇫🇷 | 2019 | Sotheby’s |\n",
        "| 109.7 | Дора Маар с кошкой | Пабло Пикассо 🇪🇸 | 2006 | Sotheby’s |\n",
        "| 107.7 | Обнажённая, зелёные листья и бюст | Пабло Пикассо 🇪🇸 | 2010 | Christie’s |\n",
        "| 105.0 | Авария серебряной машины (Двойная катастрофа) | Энди Уорхол 🇺🇸 | 2013 | Sotheby’s |\n",
        "| 103.4 | Медсестра | Рой Лихтенштейн 🇺🇸 | 2015 | Christie’s |\n",
        "| 101.3 | Портрет Адели Блох-Бауэр II | Густав Климт 🇦🇹 | 2006 | Christie’s |\n",
        "| 95.2 | Чоп суэй | Эдвард Хоппер 🇺🇸 | 2018 | Christie’s |\n",
        "| 93.1 | Триптих, 1976 | Фрэнсис Бэкон 🇬🇧 | 2008 | Sotheby’s |\n",
        "| 90.4 | Буффало 2 | Роберт Раушенберг 🇺🇸 | 2019 | Christie’s |\n",
        "| 89.9 | Авария зелёной машины | Энди Уорхол 🇺🇸 | 2007 | Christie’s |\n",
        "| 88.3 | Стог сена | Клод Моне 🇫🇷 | 2016 | Christie’s |\n",
        "| 87.8 | Оранжевый, красный, жёлтый | Марк Ротко 🇺🇸 | 2012 | Christie’s |\n",
        "| 81.6 | Белый центр (жёлтое, розовое и лиловое на розовом) | Марк Ротко 🇺🇸 | 2007 | Sotheby’s |\n",
        "| 81.3 | Черный огонь I | Барнетт Ньюмен 🇺🇸 | 2014 | Christie’s |\n",
        "| 79.2 | Тройной Элвис | Энди Уорхол 🇺🇸 | 2014 | Christie’s |\n",
        "| 78.1 | Три наброска к портрету Джона Эдвардса | Фрэнсис Бэкон 🇬🇧 | 2014 | Christie’s |\n",
        "| 75.9 | № 1 (Королевский красный и голубой) | Марк Ротко 🇺🇸 | 2012 | Sotheby’s |\n",
        "| 71.9 | Без названия XXV | Виллем де Кунинг 🇺🇸 | 2016 | Christie’s |\n",
        "| 69.7 | Обнажённая, сидящая на диване | Амедео Модильяни 🇮🇹 | 2010 | Sotheby’s |\n",
        "| 68.5 | Сидящая женщина | Пабло Пикассо 🇪🇸 | 2016 | Sotheby’s |\n",
        "| 64.8 | Орел на сосне | Ци Байши 🇨🇳 | 2011 | Другой |\n",
        "| 64.7 | Супрематическая композиция | Казимир Малевич 🇷🇺 | 2008 | Sotheby’s |\n",
        "| 64.0 | Мужчины в ее жизни | Энди Уорхол 🇺🇸 | 2010 | Другой |\n",
        "| 62.3 | 1949-A-No.1 | Клиффорд Стилл 🇺🇸 | 2011 | Sotheby’s |\n",
        "| 61.8 | Пруд с водяными лилиями | Клод Моне 🇫🇷 | 2008 | Christie’s |\n",
        "| 61.3 | Чжи Чуань поднимается в гору | Ван Мэн 🇨🇳 | 2011 | Другой |\n",
        "| 60.4 | Кувшин и фрукты | Поль Сезанн 🇫🇷 | 2019 | Christie’s |\n",
        "| 58.1 | Номер 19, 1948 | Джексон Поллок 🇺🇸 | 2013 | Christie’s |\n",
        "| 52.7 | Набросок к портрету папы Иннокентия X | Фрэнсис Бэкон 🇬🇧 | 2007 | Sotheby’s |\n",
        "| 47.3 | 200 однодолларовых купюр | Энди Уорхол 🇺🇸 | 2009 | Sotheby’s |\n",
        "| 46.5 | Мужчина с топором | Поль Гоген 🇫🇷 | 2006 | Christie’s |\n",
        "| 45.2 | Часы с кукушкой и ковер в синих и красных тонах | Анри Матисс 🇫🇷 | 2009 | Christie’s |\n",
        "| 44.2 | Голова музы | Рафаэль 🇮🇹 | 2009 | Christie’s |\n",
        "| 34.3 | Венеция: Гранд канал, вид с северо-востока от Палаццо Балби на мост Риальто | Каналетто 🇮🇹 | 2005 | Sotheby’s |\n",
        "| 25.8 | Прачка | Анри де Тулуз-Лотрек 🇫🇷 | 2005 | Christie’s |\n",
        "| 25.8 | Дань уважения Матиссу | Марк Ротко 🇺🇸 | 2005 | Christie’s |\n",
        "| | | | | |\n",
        "| | | | | *Таблица 2.0* |"
      ]
    },
    {
      "cell_type": "markdown",
      "metadata": {
        "id": "GnVwNjZQNVqI"
      },
      "source": [
        "<h1><strong><font color=\"#FF732B\">Списки</font></strong></h1>"
      ]
    },
    {
      "cell_type": "markdown",
      "metadata": {
        "id": "5hbkxDXPT-km"
      },
      "source": [
        "<p><img src=\"https://u.foxford.ngcdn.ru/uploads/inner_file/file/96321/43.png\"></p>"
      ]
    },
    {
      "cell_type": "markdown",
      "metadata": {
        "id": "v_34-uok1iyt"
      },
      "source": [
        "<h3><strong><font color=\"#809BFF\">Задача №1</font></strong></h3>\n",
        "\n",
        "Сохрани в переменную `chinese_prices` список стоимостей всех картин китайских художников из Таблицы 2.0. Напечатай результат, тип данных, а так же стоимость самой дорогой картины с помощью индекса. Используй f-strings."
      ]
    },
    {
      "cell_type": "code",
      "metadata": {
        "id": "o_3zPjU42aVI",
        "colab": {
          "base_uri": "https://localhost:8080/"
        },
        "outputId": "aedb2636-c8ca-4b2e-eac8-ec745ddd080a"
      },
      "source": [
        "# присвой переменной список стоимостей\n",
        "chinese_prices = [149.6, 64.8, 61.3]\n",
        "\n",
        "# напечатай список\n",
        "print(f'Список стоимостей работ китайских художников: {chinese_prices}')\n",
        "\n",
        "# тип данных\n",
        "print(type(chinese_prices))\n",
        "\n",
        "# самая дорогая картина\n",
        "print(f'Цена самой дорогой картины китайских художников: {chinese_prices[0]}')"
      ],
      "execution_count": null,
      "outputs": [
        {
          "output_type": "stream",
          "name": "stdout",
          "text": [
            "Список стоимостей работ китайских художников: [149.6, 64.8, 61.3]\n",
            "<class 'list'>\n",
            "Цена самой дорогой картины китайских художников: 149.6\n"
          ]
        }
      ]
    },
    {
      "cell_type": "markdown",
      "metadata": {
        "id": "rlibZk3Hd9cb"
      },
      "source": [
        "<p><img src=\"https://u.foxford.ngcdn.ru/uploads/inner_file/file/96337/46.png\"></p>"
      ]
    },
    {
      "cell_type": "markdown",
      "metadata": {
        "id": "cKCWU7NG7sVi"
      },
      "source": [
        "<p><img src=\"https://u.foxford.ngcdn.ru/uploads/inner_file/file/96338/47.png\"></p>"
      ]
    },
    {
      "cell_type": "markdown",
      "metadata": {
        "id": "g2BBN4rd6G4X"
      },
      "source": [
        "<h3><strong><font color=\"#809BFF\">Задача №2</font></strong></h3>\n",
        "\n",
        "В переменной `american_top_9_prices` сохранен список стоимостей 9 самых дорогих картин американских художников. Используя срезы, напечатайте отдельно 3 самых высоких стоимости , 3 самых низких, медианную стоимость, а также каждую вторую стоимость, начиная с нулевого индекса, во всем наборе данных."
      ]
    },
    {
      "cell_type": "code",
      "metadata": {
        "id": "rDik0YhN6JB_",
        "colab": {
          "base_uri": "https://localhost:8080/"
        },
        "outputId": "def79aba-45fd-4360-a2d0-cadbf1d59e4c"
      },
      "source": [
        "american_top_9_prices = [117.3, 105.0, 103.4, 95.2, 90.4, 89.9, 87.8, 81.6, 81.3]\n",
        "\n",
        "# напечатай 3 самых высоких стоимости\n",
        "print(american_top_9_prices[:3])\n",
        "\n",
        "# 3 самых низких\n",
        "print(american_top_9_prices[6:])\n",
        "\n",
        "# медиану\n",
        "print(american_top_9_prices[4])\n",
        "\n",
        "# и каждую вторую стоимость, начиная с нулевого индекса\n",
        "print(american_top_9_prices[::2])"
      ],
      "execution_count": null,
      "outputs": [
        {
          "output_type": "stream",
          "name": "stdout",
          "text": [
            "[117.3, 105.0, 103.4]\n",
            "[87.8, 81.6, 81.3]\n",
            "90.4\n",
            "[117.3, 103.4, 90.4, 87.8, 81.3]\n"
          ]
        }
      ]
    },
    {
      "cell_type": "markdown",
      "metadata": {
        "id": "LITpRorMd-hB"
      },
      "source": [
        "<p><img src=\"https://u.foxford.ngcdn.ru/uploads/inner_file/file/96323/44.png\"></p>"
      ]
    },
    {
      "cell_type": "markdown",
      "metadata": {
        "id": "IJE7cQuW9Ouo"
      },
      "source": [
        "<h3><strong><font color=\"#809BFF\">Задача №3</font></strong></h3>\n",
        "\n",
        "Сохрани в переменную `russian_data` список с именами авторов и стоимостью всех картин российских художников. Напечатай результат, а также длину списка."
      ]
    },
    {
      "cell_type": "code",
      "metadata": {
        "id": "9VNOZPYI9Xvs",
        "colab": {
          "base_uri": "https://localhost:8080/"
        },
        "outputId": "ef0747b3-e27d-4242-ec00-9625608f4ffa"
      },
      "source": [
        "# присвой переменной список\n",
        "russian_data = ['Казимир Малевич', 64.7]\n",
        "\n",
        "# напечатай результат\n",
        "print(russian_data)\n",
        "\n",
        "# напечатай длину списка\n",
        "print(len(russian_data))"
      ],
      "execution_count": null,
      "outputs": [
        {
          "output_type": "stream",
          "name": "stdout",
          "text": [
            "['Казимир Малевич', 64.7]\n",
            "2\n"
          ]
        }
      ]
    },
    {
      "cell_type": "markdown",
      "metadata": {
        "id": "CpVuNfpI9hld"
      },
      "source": [
        "<h3><strong><font color=\"#809BFF\">Задача №4</font></strong></h3>\n",
        "\n",
        "В переменной `italian_prices` сохранен список со стоимостью картин всех итальянских художников. Просуммируй все элементы, обратившись к ним через положительный индекс, и напечатай общую стоимость с одним знаком после точки, используя f-strings."
      ]
    },
    {
      "cell_type": "code",
      "metadata": {
        "id": "iDrYULlW9rWn",
        "colab": {
          "base_uri": "https://localhost:8080/"
        },
        "outputId": "73a0ecec-da3d-4b5d-949d-8c11d828a9f6"
      },
      "source": [
        "italian_prices = [478.1, 184.8, 163.0, 69.7, 44.2, 34.3]\n",
        "\n",
        "# присвой переменной сумму всех элементов\n",
        "italian_prices_total = italian_prices[0] + italian_prices[1] +italian_prices[2] +italian_prices[3] +italian_prices[4] +italian_prices[5]\n",
        "\n",
        "print(f'Общая стоимость работ итальянских мастеров: ${italian_prices_total:.1f}')"
      ],
      "execution_count": null,
      "outputs": [
        {
          "output_type": "stream",
          "name": "stdout",
          "text": [
            "Общая стоимость работ итальянских мастеров: $974.1\n"
          ]
        }
      ]
    },
    {
      "cell_type": "markdown",
      "metadata": {
        "id": "l_mZl2hvxvhz"
      },
      "source": [
        "<h1><strong><font color=\"#FF732B\">Цикл for</font></strong></h1>"
      ]
    },
    {
      "cell_type": "markdown",
      "metadata": {
        "id": "ZFbk7gVfHABr"
      },
      "source": [
        "<p><img src=\"https://u.foxford.ngcdn.ru/uploads/inner_file/file/95324/p.png\"></p>"
      ]
    },
    {
      "cell_type": "markdown",
      "metadata": {
        "id": "0QnBegu9HJph"
      },
      "source": [
        "<p><img src=\"https://u.foxford.ngcdn.ru/uploads/inner_file/file/96293/giffycanvas1.gif\"></p>"
      ]
    },
    {
      "cell_type": "markdown",
      "metadata": {
        "id": "25PH8YulKBDU"
      },
      "source": [
        "<h3><strong><font color=\"#809BFF\">Задача №5</font></strong></h3>\n",
        "\n",
        "Напечатай на экране каждую стоимость в списке `italian_prices` с помощью цикла `for`. Придумай для итератора осознанное подходящее название."
      ]
    },
    {
      "cell_type": "code",
      "metadata": {
        "id": "E8-rQt53Fw-5",
        "colab": {
          "base_uri": "https://localhost:8080/"
        },
        "outputId": "07fa0f3c-13b6-462d-ce40-8f6754b318a3"
      },
      "source": [
        "italian_prices = [478.1, 184.8, 163.0, 69.7, 44.2, 34.3]\n",
        "\n",
        "# задай цикл и напечатай все элементы\n",
        "for price in  italian_prices:\n",
        "  print(price)"
      ],
      "execution_count": null,
      "outputs": [
        {
          "output_type": "stream",
          "name": "stdout",
          "text": [
            "478.1\n",
            "184.8\n",
            "163.0\n",
            "69.7\n",
            "44.2\n",
            "34.3\n"
          ]
        }
      ]
    },
    {
      "cell_type": "markdown",
      "metadata": {
        "id": "o_mVEP9xNhuk"
      },
      "source": [
        "<p><img src=\"https://u.foxford.ngcdn.ru/uploads/inner_file/file/96317/42.png\"></p>"
      ]
    },
    {
      "cell_type": "markdown",
      "metadata": {
        "id": "K2RRxOY0TxaS"
      },
      "source": [
        "<p><img src=\"https://u.foxford.ngcdn.ru/uploads/inner_file/file/95329/34.png\"></p>"
      ]
    },
    {
      "cell_type": "markdown",
      "metadata": {
        "id": "JP-QPKVIUSs0"
      },
      "source": [
        "<h3><strong><font color=\"#809BFF\">Задача №6</font></strong></h3>\n",
        "\n",
        "Используя оператор `+=`, присвой с помощью цикла `for` сумму всех значений из списка `french_prices` в переменную `french_prices_total`. \n",
        "\n",
        "Помести команду `print(french_prices_total)` сначала в тело цикла, посмотри на результат, а потом закомментируй и вынеси ее из цикла. \n",
        "\n",
        "Проанализируй и осознай разницу."
      ]
    },
    {
      "cell_type": "code",
      "metadata": {
        "id": "gNwKLpX0UlnA",
        "colab": {
          "base_uri": "https://localhost:8080/"
        },
        "outputId": "00510fed-9915-47f8-d39d-6b0f2addd47f"
      },
      "source": [
        "french_prices = [25.8, 45.2, 46.5, 60.4, 61.8, 88.3, 112.7]\n",
        "french_prices_total = 0\n",
        "\n",
        "# задай цикл и просуммируй все элементы\n",
        "for price in french_prices:\n",
        "  french_prices_total+=price\n",
        "print(french_prices_total/len(french_prices))"
      ],
      "execution_count": null,
      "outputs": [
        {
          "output_type": "stream",
          "name": "stdout",
          "text": [
            "62.957142857142856\n"
          ]
        }
      ]
    },
    {
      "cell_type": "markdown",
      "metadata": {
        "id": "pAkhn9jz_VqL"
      },
      "source": [
        "<h1><strong><font color=\"#FF732B\">Изменение значений списка в цикле</font></strong></h1>"
      ]
    },
    {
      "cell_type": "markdown",
      "metadata": {
        "id": "pmEaMAMDde8a"
      },
      "source": [
        "<p><img src=\"https://u.foxford.ngcdn.ru/uploads/inner_file/file/96329/45.png\"></p>"
      ]
    },
    {
      "cell_type": "markdown",
      "metadata": {
        "id": "QKDwe7VDIcUf"
      },
      "source": [
        "<p><img src=\"https://u.foxford.ngcdn.ru/uploads/inner_file/file/95869/skip.png\"></p>"
      ]
    },
    {
      "cell_type": "markdown",
      "metadata": {
        "id": "FoA_PKAkdfpN"
      },
      "source": [
        "<p><img src=\"https://u.foxford.ngcdn.ru/uploads/inner_file/file/95342/36.png\"></p>"
      ]
    },
    {
      "cell_type": "markdown",
      "metadata": {
        "id": "9p6sv8JJdgCt"
      },
      "source": [
        "<p><img src=\"https://u.foxford.ngcdn.ru/uploads/inner_file/file/95343/37.png\"></p>"
      ]
    },
    {
      "cell_type": "markdown",
      "metadata": {
        "id": "dkr2iN0WeYJ5"
      },
      "source": [
        "<h3><strong><font color=\"#809BFF\">Задача №7</font></strong></h3>\n",
        "\n",
        "Напиши цикл, который имитирует работу инфляционного калькулятора — то есть пересчитывает прошлую стоимость объектов с учетом инфляции. Цикл должен умножить оригинальную стоимость (все элементы в списке `italian_prices`) на коэффициент `1.1`. В конце отдельно напечатай изменившийся список. Выводите каждый новый результат в формате `Новая скорректированная стоимость: $...`, используя f-strings."
      ]
    },
    {
      "cell_type": "code",
      "metadata": {
        "id": "7UFPXm-eaAUq",
        "colab": {
          "base_uri": "https://localhost:8080/"
        },
        "outputId": "dc2b93fe-1a9e-4dd7-c32b-83193f7aee53"
      },
      "source": [
        "italian_prices = [450.3, 170.4, 157.2, 61.5, 34.7, 20.0]\n",
        "\n",
        "# задай цикл и скорректируй стоимость\n",
        "for price in range(len(italian_prices)):\n",
        "  italian_prices[price] =  italian_prices[price]*1.1\n",
        "  print(f'Новая скорректированная стоимость: {italian_prices[price]:.1f}')\n",
        "\n",
        "# отдельно проверь изменения значений\n",
        "print(f'\\nПроверка изменений: {italian_prices}')"
      ],
      "execution_count": null,
      "outputs": [
        {
          "output_type": "stream",
          "name": "stdout",
          "text": [
            "Новая скорректированная стоимость: 495.3\n",
            "Новая скорректированная стоимость: 187.4\n",
            "Новая скорректированная стоимость: 172.9\n",
            "Новая скорректированная стоимость: 67.7\n",
            "Новая скорректированная стоимость: 38.2\n",
            "Новая скорректированная стоимость: 22.0\n",
            "\n",
            "Проверка изменений: [495.33000000000004, 187.44000000000003, 172.92, 67.65, 38.17000000000001, 22.0]\n"
          ]
        }
      ]
    },
    {
      "cell_type": "markdown",
      "metadata": {
        "id": "EW4E3W-4hi05"
      },
      "source": [
        "<h3><strong><font color=\"#809BFF\">Задача №8</font></strong></h3>\n",
        "\n",
        "Напиши цикл, который переводит тип данных в целочисленный для всех значений в списке `italian_prices`, за исключением первого и последних двух. Они должны остаться неизменными. В цикле печатай результат в формате `Целочисленная стоимость: ... млн $`, а в конце проверь изменения."
      ]
    },
    {
      "cell_type": "code",
      "metadata": {
        "id": "nNBZYQY8hxeZ",
        "colab": {
          "base_uri": "https://localhost:8080/"
        },
        "outputId": "9f9de9c1-8674-4b6f-d354-b7571f997514"
      },
      "source": [
        "italian_prices = [478.1, 184.8, 163.0, 69.7, 44.2, 34.3]\n",
        "\n",
        "# цикл для изменения типа данных\n",
        "for price in range(1,len(italian_prices)-2):\n",
        "  italian_prices[price] = int(italian_prices[price] )\n",
        "  print(f'Целочисленная стоимость: {italian_prices[price]}')\n",
        "\n",
        "print(f'\\nПроверка изменений: {italian_prices}')"
      ],
      "execution_count": null,
      "outputs": [
        {
          "output_type": "stream",
          "name": "stdout",
          "text": [
            "Целочисленная стоимость: 184\n",
            "Целочисленная стоимость: 163\n",
            "Целочисленная стоимость: 69\n",
            "\n",
            "Проверка изменений: [478.1, 184, 163, 69, 44.2, 34.3]\n"
          ]
        }
      ]
    },
    {
      "cell_type": "markdown",
      "metadata": {
        "id": "emYgFPzdis6u"
      },
      "source": [
        "<h1><strong><font color=\"#FF732B\">Сортировка и добавление новых элементов</font></strong></h1>"
      ]
    },
    {
      "cell_type": "markdown",
      "metadata": {
        "id": "TTXdhQv10LwQ"
      },
      "source": [
        "<p><img src=\"https://u.foxford.ngcdn.ru/uploads/inner_file/file/95366/38.png\"></p>"
      ]
    },
    {
      "cell_type": "markdown",
      "metadata": {
        "id": "nBjfBPQQ0nEB"
      },
      "source": [
        "<h3><strong><font color=\"#809BFF\">Задача №9</font></strong></h3>\n",
        "\n",
        "Используя метод `sort()`, отсортируй все названия картин итальянских художников в алфавитном порядке. Напечатай каждый элемент с помощью цикла."
      ]
    },
    {
      "cell_type": "code",
      "metadata": {
        "id": "slR2SuF6yrgQ",
        "colab": {
          "base_uri": "https://localhost:8080/"
        },
        "outputId": "2f882ad9-52c7-4928-fe26-8707ea5f95b9"
      },
      "source": [
        "italian_titles = [\n",
        "    'Обнаженная, лежащая на левом боку',\n",
        "    'Лежащая обнажённая',\n",
        "    'Обнажённая, сидящая на диване',\n",
        "    'Спаситель мира',\n",
        "    'Венеция: Гранд канал, вид с северо-востока от Палаццо Балби на мост Риальто',\n",
        "    'Голова музы'\n",
        "    ]\n",
        "\n",
        "# отсортируй список в алфавитном порядке\n",
        "italian_titles.sort()\n",
        "\n",
        "# цикл для печати\n",
        "for title in italian_titles:\n",
        "  print(title)"
      ],
      "execution_count": null,
      "outputs": [
        {
          "output_type": "stream",
          "name": "stdout",
          "text": [
            "Венеция: Гранд канал, вид с северо-востока от Палаццо Балби на мост Риальто\n",
            "Голова музы\n",
            "Лежащая обнажённая\n",
            "Обнаженная, лежащая на левом боку\n",
            "Обнажённая, сидящая на диване\n",
            "Спаситель мира\n"
          ]
        }
      ]
    },
    {
      "cell_type": "markdown",
      "metadata": {
        "id": "gab9ildh1VvR"
      },
      "source": [
        "<p><img src=\"https://u.foxford.ngcdn.ru/uploads/inner_file/file/95368/39.png\"></p>"
      ]
    },
    {
      "cell_type": "markdown",
      "metadata": {
        "id": "WjqcQmhy1g22"
      },
      "source": [
        "<h3><strong><font color=\"#809BFF\">Задача №10</font></strong></h3>\n",
        "\n",
        "Используя метод `sort()`, отсортируй все значения в списке `french_prices` по убыванию. Напечатай каждый элемент с помощью цикла."
      ]
    },
    {
      "cell_type": "code",
      "metadata": {
        "id": "hEhDlK1P1nvu",
        "colab": {
          "base_uri": "https://localhost:8080/"
        },
        "outputId": "1563c937-dff8-4a39-fa2d-85ea7aab3717"
      },
      "source": [
        "french_prices = [46.5, 112.7, 60.4, 25.8, 45.2, 61.8, 88.3]\n",
        "\n",
        "# отсортируй значения по убыванию\n",
        "french_prices.sort(reverse=True)\n",
        "\n",
        "# цикл для печати\n",
        "for price in french_prices:\n",
        "  print(price)"
      ],
      "execution_count": null,
      "outputs": [
        {
          "output_type": "stream",
          "name": "stdout",
          "text": [
            "112.7\n",
            "88.3\n",
            "61.8\n",
            "60.4\n",
            "46.5\n",
            "45.2\n",
            "25.8\n"
          ]
        }
      ]
    },
    {
      "cell_type": "markdown",
      "metadata": {
        "id": "JcNpxS6U2rTz"
      },
      "source": [
        "<p><img src=\"https://u.foxford.ngcdn.ru/uploads/inner_file/file/95370/40.png\"></p>"
      ]
    },
    {
      "cell_type": "markdown",
      "metadata": {
        "id": "YPMXaGjH283P"
      },
      "source": [
        "<h3><strong><font color=\"#809BFF\">Задача №11</font></strong></h3>\n",
        "\n",
        "Используя метод `append()`, добавь в список `french_titles` названия пропущенных французских картин. Напечатай список после изменения."
      ]
    },
    {
      "cell_type": "code",
      "metadata": {
        "id": "bnQVkK_s3CtO",
        "colab": {
          "base_uri": "https://localhost:8080/"
        },
        "outputId": "acbe1488-1152-4076-ff12-5ba9036fa7b9"
      },
      "source": [
        "french_titles = [\n",
        "    'Прачка',\n",
        "    'Кувшин и фрукты',\n",
        "    'Пруд с водяными лилиями',\n",
        "    'Стога сена'\n",
        "]\n",
        "\n",
        "# 3 французские картины из Таблицы 2.0, которых нет в списке:\n",
        "# Стог сена\n",
        "# Часы с кукушкой и ковер в синих и красных тонах\n",
        "# Мужчина с топором\n",
        "\n",
        "\n",
        "# добавь новые картины\n",
        "french_titles.append('Стог сена')\n",
        "french_titles.append('Часы с кукушкой и ковер в синих и красных тонах')\n",
        "french_titles.append('Мужчина с топором')\n",
        "\n",
        "# напечатай обновленный список\n",
        "for title in french_titles:\n",
        "  print(title)"
      ],
      "execution_count": null,
      "outputs": [
        {
          "output_type": "stream",
          "name": "stdout",
          "text": [
            "Прачка\n",
            "Кувшин и фрукты\n",
            "Пруд с водяными лилиями\n",
            "Стога сена\n",
            "Стог сена\n",
            "Часы с кукушкой и ковер в синих и красных тонах\n",
            "Мужчина с топором\n"
          ]
        }
      ]
    },
    {
      "cell_type": "markdown",
      "metadata": {
        "id": "J7FwNPS2x4ln"
      },
      "source": [
        "<h1><strong><font color=\"#FF732B\">Списки списков (вложенные списки)</font></strong></h1>"
      ]
    },
    {
      "cell_type": "markdown",
      "metadata": {
        "id": "wadpWQjdRUVI"
      },
      "source": [
        "<p><img src=\"https://u.foxford.ngcdn.ru/uploads/inner_file/file/95386/41.png\"></p>"
      ]
    },
    {
      "cell_type": "markdown",
      "metadata": {
        "id": "Nh4JcEq6TGGP"
      },
      "source": [
        "<h3><strong><font color=\"#809BFF\">Задача №12</font></strong></h3>\n",
        "\n",
        "Из вложенного списка `french_dataset` «достань» с помощью двойного индекса следующие значения и напечатай их:\n",
        "\n",
        "1. Название картины художника, чей рост менее 155 см\n",
        "2. Стоимость картины Поля Сезанна\n",
        "3. Имя художника, который написал картину «Стога сена»\n",
        "4. Стоимость картины «Стог сена»\n",
        "5. Название картины Анри Матисса"
      ]
    },
    {
      "cell_type": "code",
      "metadata": {
        "id": "AdNR4JFbTMFj",
        "colab": {
          "base_uri": "https://localhost:8080/"
        },
        "outputId": "6cb5e699-77b9-4ee0-b4e0-4405c4314f33"
      },
      "source": [
        "french_dataset = [\n",
        "    [112.7, 'Стога сена', 'Клод Моне 🇫🇷'],\n",
        "    [88.3, 'Стог сена', 'Клод Моне 🇫🇷'],\n",
        "    [61.8, 'Пруд с водяными лилиями', 'Клод Моне 🇫🇷'],\n",
        "    [60.4, 'Кувшин и фрукты', 'Поль Сезанн 🇫🇷'],\n",
        "    [46.5, 'Мужчина с топором', 'Поль Гоген 🇫🇷'],\n",
        "    [45.2, 'Часы с кукушкой и ковер в синих и красных тонах', 'Анри Матисс 🇫🇷'],\n",
        "    [25.8, 'Прачка', 'Анри де Тулуз-Лотрек 🇫🇷']\n",
        "]\n",
        "\n",
        "# сформируй запрос и напечатай результат\n",
        "print(french_dataset[6][1])\n",
        "print(french_dataset[3][0])"
      ],
      "execution_count": null,
      "outputs": [
        {
          "output_type": "stream",
          "name": "stdout",
          "text": [
            "Прачка\n",
            "60.4\n"
          ]
        }
      ]
    },
    {
      "cell_type": "markdown",
      "metadata": {
        "id": "Xt9qkeKun1YJ"
      },
      "source": [
        "<h3><strong><font color=\"#809BFF\">Задача №13</font></strong></h3>\n",
        "\n",
        "Просуммируй стоимость всех картин в списке списков `spanish_data` с помощью цикла и напечатай результат с одним знаком после точки, используя f-strings."
      ]
    },
    {
      "cell_type": "code",
      "metadata": {
        "id": "7mEW_1cpn9eI"
      },
      "source": [
        "spanish_data = [\n",
        "    [68.5, 'Сидящая женщина', 'Пабло Пикассо 🇪🇸', 'Sotheby\\’s'],\n",
        "    [107.7, 'Обнажённая, зелёные листья и бюст', 'Пабло Пикассо 🇪🇸', 'Christie\\’s'],\n",
        "    [109.7, 'Дора Маар с кошкой', 'Пабло Пикассо 🇪🇸', 'Sotheby\\’s'],\n",
        "    [119.2, 'Молодая девушка с цветочной корзиной', 'Пабло Пикассо 🇪🇸', 'Christie\\’s'],\n",
        "    [194.5, 'Алжирские женщины («Версия O»)', 'Пабло Пикассо 🇪🇸', 'Christie\\’s'],\n",
        "]\n",
        "\n",
        "# переменная суммы\n",
        "...\n",
        "\n",
        "# цикл для суммирования стоимостей\n",
        "...\n",
        "\n",
        "print('Общая стоимость картин испанских художников: ${...}')"
      ],
      "execution_count": null,
      "outputs": []
    },
    {
      "cell_type": "markdown",
      "metadata": {
        "id": "i7KImah_EBVy"
      },
      "source": [
        "<h1><strong><font color=\"#FC4262\">Домашняя работа</font></strong></h1>"
      ]
    },
    {
      "cell_type": "markdown",
      "metadata": {
        "id": "BdNn502i2vTz"
      },
      "source": [
        "Вот несколько шагов, чтобы настроить удобную работу над домашними задачами:\n",
        "\n",
        "1. В сервисе [Google Drive](https://www.google.com/intl/ru/drive/) создай папку `foxford_ds_study` (если еще этого не сделал), в которой ты будешь хранить все учебные материалы с этого курса.\n",
        "2. Сохрани копию этой тетрадки `Занятие №3.ipynb` *(File → Save a copy in Drive)* в папку `foxford_ds_study`.\n",
        "\n",
        "Зачем это нужно? \n",
        "\n",
        "Файл, в котором работает преподаватель — это «оригинальный» файл и мы не можем работать в нем все вместе, ведь у каждого свой код! Каждому ученику необходимо сделать свою копию файла и выполнять домашку именно в ней. Если хочешь, ты можешь назвать свой файл по имени, например, `Занятие №2 Иван Кнопочкин.ipynb`.\n",
        "\n",
        "В начале следующего занятия мы обсудим эти задачи вместе."
      ]
    },
    {
      "cell_type": "markdown",
      "metadata": {
        "id": "Q2VeX6xG2t1_"
      },
      "source": [
        "<h3><strong><font color=\"#809BFF\">Задача №14</font></strong></h3>\n",
        "\n",
        "Сохрани в переменную `modigliani_prices` список стоимостей всех картин Амедео Модильяни из Таблицы 2.0. Напечатай результат, тип данных, а также стоимость самой дешевой картины с помощью индекса. Используй f-strings."
      ]
    },
    {
      "cell_type": "code",
      "metadata": {
        "id": "s1iV7hyt2zgR"
      },
      "source": [
        "# присвой переменной список стоимостей\n",
        "modigliani_prices = ...\n",
        "\n",
        "# напечатай список\n",
        "print('Список стоимостей работ Амедео Модильяни: ...')\n",
        "\n",
        "# тип данных\n",
        "...\n",
        "\n",
        "# самая дешевая картина\n",
        "..."
      ],
      "execution_count": null,
      "outputs": []
    },
    {
      "cell_type": "markdown",
      "metadata": {
        "id": "9IiFj7GW3ifE"
      },
      "source": [
        "<div>\n",
        "  <details>\n",
        "\t  <summary>Подсказка 1/1</summary>\n",
        "    <p>Для типа данных — используй <code>type()</code>, для самой дешевой картины — срез.</p>\n",
        "  </details>\n",
        "</div>\n",
        "\n",
        "<div>\n",
        "  <details>\n",
        "\t  <summary>Результат</summary>\n",
        "    <p>\n",
        "      Список стоимостей работ Амедео Модильяни: [184.8, 163.0, 69.7]</br>\n",
        "      class 'list'</br>\n",
        "      69.7\n",
        "    </p>\n",
        "  </details>\n",
        "</div>"
      ]
    },
    {
      "cell_type": "markdown",
      "metadata": {
        "id": "34kQNkgHEDsw"
      },
      "source": [
        "<h3><strong><font color=\"#809BFF\">Задача №15</font></strong></h3>\n",
        "\n",
        "Используя цикл и функцию `len()`, вычисли среднюю стоимость в списке `french_prices`. Напечатай результат с двумя знаками после точки. Перед выполнением подумай над реализацией в целом, а потом пиши код."
      ]
    },
    {
      "cell_type": "code",
      "metadata": {
        "id": "1rvkwu2HEHkG"
      },
      "source": [
        "french_prices = [25.8, 45.2, 46.5, 60.4, 61.8, 88.3, 112.7]\n",
        "\n",
        "# код решения\n",
        "...\n",
        "\n",
        "# напечатай результат\n",
        "print('Средняя стоимость французских картин: $...')"
      ],
      "execution_count": null,
      "outputs": []
    },
    {
      "cell_type": "markdown",
      "metadata": {
        "id": "dFSSaKqIS8-R"
      },
      "source": [
        "<div>\n",
        "  <details>\n",
        "\t  <summary>Подсказка 1/1</summary>\n",
        "    <p>Среднее значение — это число, равное сумме всех чисел множества, делённое на их количество.</p>\n",
        "  </details>\n",
        "</div>\n",
        "\n",
        "<div>\n",
        "  <details>\n",
        "\t  <summary>Результат</summary>\n",
        "    <p>Средняя стоимость французских картин: $62.96</p>\n",
        "  </details>\n",
        "</div>"
      ]
    },
    {
      "cell_type": "markdown",
      "metadata": {
        "id": "5y5BhCLWgj3I"
      },
      "source": [
        "<h3><strong><font color=\"#809BFF\">Задача №16</font></strong></h3>\n",
        "\n",
        "По неизвестной для рынка искусства причине картины испанских художников подешевели в полтора раза. Напиши цикл, который изменит текущую стоимость работ в переменной `spanish_prices`. Выводи каждый новый результат в формате `Новая сниженная стоимость: $...`, используя f-strings."
      ]
    },
    {
      "cell_type": "code",
      "metadata": {
        "id": "Rx1fp3ZHgtGV"
      },
      "source": [
        "spanish_prices = [68.5, 107.7, 109.7, 119.2, 194.5]\n",
        "\n",
        "# задай цикл и уцени картины\n",
        "...\n",
        "\n",
        "# отдельно проверь изменения значений\n",
        "print('\\nПроверка изменений: ...')"
      ],
      "execution_count": null,
      "outputs": []
    },
    {
      "cell_type": "markdown",
      "metadata": {
        "id": "GechXjE7gzyL"
      },
      "source": [
        "<div>\n",
        "  <details>\n",
        "\t  <summary>Подсказка 1/3</summary>\n",
        "    <p>Первоочередная идея — разделить сам итератор на <code>1.5</code> — не пройдет.</p>\n",
        "  </details>\n",
        "</div>\n",
        "\n",
        "<div>\n",
        "  <details>\n",
        "\t  <summary>Подсказка 2/3</summary>\n",
        "    <p>Передай диапазон индексов списка <code>italian_prices</code>, используя функции <code>range()</code> и <code>len()</code>.</p>\n",
        "  </details>\n",
        "</div>\n",
        "\n",
        "<div>\n",
        "  <details>\n",
        "\t  <summary>Подсказка 3/3</summary>\n",
        "    <p>Меняй каждый элемент списка через индекс (перебором с помощью итератора).</p>\n",
        "  </details>\n",
        "</div>\n",
        "\n",
        "<div>\n",
        "  <details>\n",
        "\t  <summary>Результат</summary>\n",
        "    <p>\n",
        "      Новая сниженная стоимость: $45.7</br>\n",
        "      Новая сниженная стоимость: $71.8</br>\n",
        "      Новая сниженная стоимость: $73.1</br>\n",
        "      Новая сниженная стоимость: $79.5</br>\n",
        "      Новая сниженная стоимость: $129.7</br>\n",
        "      </br>\n",
        "      Проверка изменений: [45.666666666666664, 71.8, 73.13333333333334, 79.46666666666667, 129.66666666666666]\n",
        "    </p>\n",
        "  </details>\n",
        "</div>"
      ]
    },
    {
      "cell_type": "markdown",
      "metadata": {
        "id": "qFPxh3GETc_d"
      },
      "source": [
        "<h3><strong><font color=\"#809BFF\">Задача №17</font></strong></h3>\n",
        "\n",
        "Злоумышленники украли каждую вторую картину, стоимость которых сохранена в списке `french_prices`, и теперь владец коллекции хочет выяснить общую стоимость всех оставшихся картин. \n",
        "\n",
        "Напиши 2 цикла — первый должен обесценить каждую вторую картину, а второй — просуммировать стоимость оставшихся в переменную `leftover_paintings_total`.\n",
        "\n",
        "Напечатай значения списка «после кражи», а также стоимость оставшихся картин в формате: `Стоимость оставшихся картин: $...`."
      ]
    },
    {
      "cell_type": "code",
      "metadata": {
        "id": "noI5ayGZTkNX"
      },
      "source": [
        "french_prices = [25.8, 45.2, 46.5, 60.4, 61.8, 88.3, 112.7]\n",
        "\n",
        "# код решения\n",
        "..."
      ],
      "execution_count": null,
      "outputs": []
    },
    {
      "cell_type": "markdown",
      "metadata": {
        "id": "scgD_umFTsXt"
      },
      "source": [
        "<div>\n",
        "  <details>\n",
        "\t  <summary>Подсказка 1/3</summary>\n",
        "    <p>Первоочередная идея — обесценить сам итератор — не пройдет.</p>\n",
        "  </details>\n",
        "</div>\n",
        "\n",
        "<div>\n",
        "  <details>\n",
        "\t  <summary>Подсказка 2/3</summary>\n",
        "    <p>«Украдена каждая вторая картина» — это значит, что нижняя граница диапазона индексов должна быть <code>1</code> и шаг <code>2</code>. Передай диапазон с помощью функций <code>range()</code> и <code>len()</code>.</p>\n",
        "  </details>\n",
        "</div>\n",
        "\n",
        "<div>\n",
        "  <details>\n",
        "\t  <summary>Подсказка 3/3</summary>\n",
        "    <p>Меняй каждый элемент списка через индекс (перебором с помощью итератора).</p>\n",
        "  </details>\n",
        "</div>\n",
        "\n",
        "<div>\n",
        "  <details>\n",
        "\t  <summary>Результат</summary>\n",
        "    <p>\n",
        "      Список стоимостей картин после кражи: [25.8, 0.0, 46.5, 0.0, 61.8, 0.0, 112.7]</br>\n",
        "      Стоимость оставшихся картин: $246.8\n",
        "    </p>\n",
        "  </details>\n",
        "</div>"
      ]
    },
    {
      "cell_type": "markdown",
      "metadata": {
        "id": "33XK_QQMR_T-"
      },
      "source": [
        "<h3><strong><font color=\"#809BFF\">Задача №18</font></strong></h3>\n",
        "\n",
        "Создай список списков в переменной `chinese_dataset`. В каждом отдельном списке (то есть строке) сохрани следующие значения: `Стоимость картины`, `Название картины`, `Имя китайского художника`. \n",
        "\n",
        "Напечатай сначала получившийся результат целиком, а потом закомментируй его и выведи название самой дорогой картины, обратившись к ней с помощью двойного индекса."
      ]
    },
    {
      "cell_type": "code",
      "metadata": {
        "id": "JVyPrrusPrth"
      },
      "source": [
        "chinese_dataset = [\n",
        "    ...,\n",
        "    ...,\n",
        "    ...\n",
        "]\n",
        "\n",
        "# напечатай результат\n",
        "...\n",
        "\n",
        "# напечатай название самой дорогой картины\n",
        "..."
      ],
      "execution_count": null,
      "outputs": []
    },
    {
      "cell_type": "markdown",
      "metadata": {
        "id": "CCNemPoMUTvR"
      },
      "source": [
        "<div>\n",
        "  <details>\n",
        "\t  <summary>Подсказка 1/1</summary>\n",
        "    <p>В двойном индексе — первый обозначает строку, в которой ищем, а второй — сам элемент.</p>\n",
        "  </details>\n",
        "</div>\n",
        "\n",
        "<div>\n",
        "  <details>\n",
        "\t  <summary>Результат 1</summary>\n",
        "    <p>[[149.6, 'Двенадцать ландшафтных сцен', 'Ци Байши 🇨🇳'], [64.8, 'Орел на сосне', 'Ци Байши 🇨🇳'], [61.3, 'Чжи Чуань поднимается в гору', 'Ван Мэн 🇨🇳']]</p>\n",
        "  </details>\n",
        "</div>\n",
        "\n",
        "<div>\n",
        "  <details>\n",
        "\t  <summary>Результат 2</summary>\n",
        "    <p>Двенадцать ландшафтных сцен</p>\n",
        "  </details>\n",
        "</div>"
      ]
    }
  ]
}