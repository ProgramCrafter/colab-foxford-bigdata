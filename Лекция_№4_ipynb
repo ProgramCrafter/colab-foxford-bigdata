{
  "nbformat": 4,
  "nbformat_minor": 0,
  "metadata": {
    "colab": {
      "name": "КР \"Лекция №4.ipynb\"",
      "provenance": [],
      "collapsed_sections": [],
      "include_colab_link": true
    },
    "kernelspec": {
      "name": "python3",
      "display_name": "Python 3"
    },
    "language_info": {
      "name": "python"
    }
  },
  "cells": [
    {
      "cell_type": "markdown",
      "metadata": {
        "id": "view-in-github",
        "colab_type": "text"
      },
      "source": [
        "<a href=\"https://colab.research.google.com/github/ProgramCrafter/colab-foxford-bigdata/blob/master/%D0%9B%D0%B5%D0%BA%D1%86%D0%B8%D1%8F_%E2%84%964_ipynb\" target=\"_parent\"><img src=\"https://colab.research.google.com/assets/colab-badge.svg\" alt=\"Open In Colab\"/></a>"
      ]
    },
    {
      "cell_type": "markdown",
      "metadata": {
        "id": "goKCGXSUoln1"
      },
      "source": [
        "<p><img src=\"https://u.foxford.ngcdn.ru/uploads/inner_file/file/98163/upd4.jpg\"></p>"
      ]
    },
    {
      "cell_type": "markdown",
      "metadata": {
        "id": "fTAUCMGRqM75"
      },
      "source": [
        "___\n",
        "\n",
        "<font color=\"#000000\">Основы Python и глубокого обучения</font>\n",
        "<font color=\"#AEBAC5\"> → </font>\n",
        "<font color=\"#AEBAC5\">Компьютерное зрение (CV)</font>\n",
        "<font color=\"#AEBAC5\"> → </font>\n",
        "<font color=\"#AEBAC5\">Обработка естественного языка (NLP)</font>\n",
        "\n",
        "___"
      ]
    },
    {
      "cell_type": "markdown",
      "metadata": {
        "id": "V5fqY6dZVxEY"
      },
      "source": [
        "<h1><strong><font color=\"#FF732B\">Закрепим понимание вложенных списков</font></strong></h1>"
      ]
    },
    {
      "cell_type": "markdown",
      "metadata": {
        "id": "5WiAdBc3V-7x"
      },
      "source": [
        "<h3><strong><font color=\"#809BFF\">Задача №1</font></strong></h3>\n",
        "\n",
        "Вычисли общую стоимость 3-х самых дорогих картин для каждой страны и напечатай результат для первых 3-х стран в таблице `top_3_prices`. \n",
        "\n",
        "Цикл для вывода частично подготовлен. Финальная таблица должна выглядеть вот так:"
      ]
    },
    {
      "cell_type": "markdown",
      "metadata": {
        "id": "Oykk5LOjWOcP"
      },
      "source": [
        "```\n",
        "Страна    | Общая стоимость, млн $\n",
        "----------------------------------\n",
        "Италия    | ...                      \n",
        "Испания   | ...                   \n",
        "Америка   | ...\n",
        "```"
      ]
    },
    {
      "cell_type": "code",
      "metadata": {
        "id": "x3TkH5yTWXLU",
        "colab": {
          "base_uri": "https://localhost:8080/"
        },
        "outputId": "c93e6811-f046-4a78-af0f-1455533b3c13"
      },
      "source": [
        "top_3_prices = [\n",
        "    ['Италия', 478.1, 184.8, 163.0],\n",
        "    ['Испания', 194.5, 119.2, 109.7],\n",
        "    ['Америка', 117.3, 105.0, 103.4],\n",
        "    ['Великобритания', 141.9, 93.1, 78.1],\n",
        "    ['Китай', 149.6, 64.8, 61.3],\n",
        "    ['Франция', 112.7, 88.3, 61.8]\n",
        "]\n",
        "\n",
        "# цикл, который просуммирует значения и добавит новый столбец с результатом\n",
        "for i in range(len(top_3_prices)):\n",
        "  total_sum = top_3_prices[i][1] + top_3_prices[i][2] + top_3_prices[i][3]\n",
        "  top_3_prices[i].append(total_sum)\n",
        "\n",
        "# print(top_3_prices)\n",
        "# шапка таблицы\n",
        "print(\"Страна    | Общая стоимость, млн $\")\n",
        "print('-' * 34)\n",
        "\n",
        "# цикл, который напечатает результат для первых 3-х стран\n",
        "for row in top_3_prices[:3]:\n",
        "    print(f'{row[0]: <10}| {row[-1]: <29.1f}')"
      ],
      "execution_count": null,
      "outputs": [
        {
          "output_type": "stream",
          "name": "stdout",
          "text": [
            "Страна    | Общая стоимость, млн $\n",
            "----------------------------------\n",
            "Италия    | 825.9                        \n",
            "Испания   | 423.4                        \n",
            "Америка   | 325.7                        \n"
          ]
        }
      ]
    },
    {
      "cell_type": "markdown",
      "metadata": {
        "id": "X1q9WFv5VEUm"
      },
      "source": [
        "<h1><strong><font color=\"#FF732B\">Новый (и последний) набор данных с художниками</font></strong></h1>"
      ]
    },
    {
      "cell_type": "markdown",
      "metadata": {
        "id": "5hbkxDXPT-km"
      },
      "source": [
        "|Стоимость, млн $|Название|Год создания|Год продажи|Художник|Жанр|A/R|\n",
        "--- | --- | --- | --- | --- | --- | ---\n",
        "|112.7|Стога сена|1890|2019|Клод Моне 🇫🇷|Пейзаж|5|\n",
        "|90.4|Буффало 2|1964|2019|Роберт Раушенберг 🇺🇸|Фигуративная Живопись|10|\n",
        "|60.4|Кувшин и фрукты|1890|2019|Поль Сезанн 🇫🇷|Натюрморт|6|\n",
        "|163.0|Лежащая обнажённая|1917|2018|Амедео Модильяни 🇮🇹|Ню|7|\n",
        "|119.2|Молодая девушка с цветочной корзиной|1905|2018|Пабло Пикассо 🇪🇸|Ню|7|\n",
        "|95.2|Чоп суэй|1929|2018|Эдвард Хоппер 🇺🇸|Жанровая живопись|7|\n",
        "|478.1|Спаситель мира|1500|2017|Леонардо да Винчи 🇮🇹|Портрет|10|\n",
        "|149.6|Двенадцать ландшафтных сцен|1925|2017|Ци Байши 🇨🇳|Пейзаж|4|\n",
        "|117.3|Без названия (1982)|1982|2017|Жан-Мишель Баския 🇺🇸|Фигуративная Живопись|3|\n",
        "|88.3|Стог сена|1891|2016|Клод Моне 🇫🇷|Пейзаж|5|\n",
        "|71.9|Без названия XXV|1977|2016|Виллем де Кунинг 🇺🇸|Композиция|1|\n",
        "|68.5|Сидящая женщина|1909|2016|Пабло Пикассо 🇪🇸|Портрет|3|\n",
        "|194.5|Алжирские женщины («Версия O»)|1955|2015|Пабло Пикассо 🇪🇸|Жанровая живопись|3|\n",
        "|184.8|Обнаженная, лежащая на левом боку|1918|2015|Амедео Модильяни 🇮🇹|Ню|7|\n",
        "|103.4|Медсестра|1964|2015|Рой Лихтенштейн 🇺🇸|Портрет|7|\n",
        "|81.3|Черный огонь I|1961|2014|Барнетт Ньюмен 🇺🇸|Композиция|1|\n",
        "|79.2|Тройной Элвис|1963|2014|Энди Уорхол 🇺🇸|Портрет|10|\n",
        "|78.1|Три наброска к портрету Джона Эдвардса|1984|2014|Фрэнсис Бэкон  🇬🇧|Портрет|6|\n",
        "|141.9|Три наброска к портрету Люсьена Фрейда|1969|2013|Фрэнсис Бэкон  🇬🇧|Портрет|6|\n",
        "|105.0|Авария серебряной машины (Двойная катастрофа)|1963|2013|Энди Уорхол 🇺🇸|Жанровая живопись|10|\n",
        "|58.1|Номер 19, 1948|1948|2013|Джексон Поллок 🇺🇸|Композиция|1|\n",
        "|121.3|Крик, 1895|1895|2012|Эдвард Мунк 🇳🇴|Жанровая живопись|4|\n",
        "|87.8|Оранжевый, красный, жёлтый|1961|2012|Марк Ротко 🇺🇸|Композиция|1|\n",
        "|75.9|№ 1 (Королевский красный и голубой)|1954|2012|Марк Ротко 🇺🇸|Композиция|1|\n",
        "|64.8|Орел на сосне|1946|2011|Ци Байши 🇨🇳|Пейзаж|4|\n",
        "|62.3|1949-A-No.1|1949|2011|Клиффорд Стилл 🇺🇸|Композиция|1|\n",
        "|61.3|Чжи Чуань поднимается в гору|1370|2011|Ван Мэн 🇨🇳|Жанровая живопись|4|\n",
        "|107.7|Обнажённая, зелёные листья и бюст|1932|2010|Пабло Пикассо 🇪🇸|Портрет|2|\n",
        "|69.7|Обнажённая, сидящая на диване|1917|2010|Амедео Модильяни 🇮🇹|Ню|7|\n",
        "|64.0|Мужчины в ее жизни|1962|2010|Энди Уорхол 🇺🇸|Портрет|10|\n",
        "|44.2|Голова музы|1511|2009|Рафаэль 🇮🇹|Портрет|10|\n",
        "|45.2|Часы с кукушкой и ковер в синих и красных тонах|1911|2009|Анри Матисс 🇫🇷|Натюрморт|5|\n",
        "|47.3|200 однодолларовых купюр|1962|2009|Энди Уорхол 🇺🇸|Композиция|10|\n",
        "|93.1|Триптих, 1976|1976|2008|Фрэнсис Бэкон  🇬🇧|Портрет|6|\n",
        "|61.8|Пруд с водяными лилиями|1919|2008|Клод Моне 🇫🇷|Пейзаж|5|\n",
        "|64.7|Супрематическая композиция|1919|2008|Казимир Малевич 🇷🇺|Композиция|1|\n",
        "|81.6|Белый центр (жёлтое, розовое и лиловое на розовом)|1950|2007|Марк Ротко 🇺🇸|Композиция|1|\n",
        "|52.7|Набросок к портрету папы Иннокентия X|1962|2007|Фрэнсис Бэкон  🇬🇧|Портрет|6|\n",
        "|89.9|Авария зелёной машины|1963|2007|Энди Уорхол 🇺🇸|Жанровая живопись|10|\n",
        "|109.7|Дора Маар с кошкой|1941|2006|Пабло Пикассо 🇪🇸|Портрет|3|\n",
        "|101.3|Портрет Адели Блох-Бауэр II|1912|2006|Густав Климт 🇦🇹|Портрет|8|\n",
        "|46.5|Мужчина с топором|1891|2006|Поль Гоген 🇫🇷|Жанровая живопись|5|\n",
        "|34.3|Венеция: Гранд канал, вид с северо-востока от Палаццо Балби на мост Риальто|1724|2005|Каналетто 🇮🇹|Пейзаж|10|\n",
        "|25.8|Прачка|1886|2005|Анри де Тулуз-Лотрек 🇫🇷|Портрет|10|\n",
        "|25.8|Дань уважения Матиссу|1954|2005|Марк Ротко 🇺🇸|Композиция|1|\n",
        "| | | | | | | |\n",
        "| | | | | | | *Таблица 3.0* |"
      ]
    },
    {
      "cell_type": "markdown",
      "metadata": {
        "id": "EWyFHyhWW0Q5"
      },
      "source": [
        "<h1><strong><font color=\"#FF732B\">Сохраняем данные в отдельную ячейку</font></strong></h1>"
      ]
    },
    {
      "cell_type": "code",
      "metadata": {
        "id": "fPw6q5suWz0x"
      },
      "source": [
        "art_market_dataset = [\n",
        "        [112.7, 'Стога сена', 1890 , 2019, 'Клод Моне 🇫🇷', 'Пейзаж', 5],\n",
        "        [90.4, 'Буффало 2', 1964, 2019, 'Роберт Раушенберг 🇺🇸', 'Фигуративная Живопись', 10],\n",
        "        [60.4, 'Кувшин и фрукты', 1890, 2019, 'Поль Сезанн 🇫🇷', 'Натюрморт', 6],\n",
        "        [163.0, 'Лежащая обнажённая', 1917, 2018, 'Амедео Модильяни 🇮🇹', 'Ню', 7],\n",
        "        [119.2, 'Молодая девушка с цветочной корзиной', 1905, 2018, 'Пабло Пикассо 🇪🇸', 'Ню', 7],\n",
        "        [95.2, 'Чоп суэй', 1929, 2018, 'Эдвард Хоппер 🇺🇸', 'Жанровая живопись', 7],\n",
        "        [478.1, 'Спаситель мира', 1500, 2017, 'Леонардо да Винчи 🇮🇹', 'Портрет', 10],\n",
        "        [149.6, 'Двенадцать ландшафтных сцен', 1925, 2017, 'Ци Байши 🇨🇳', 'Пейзаж', 4],\n",
        "        [117.3, 'Без названия (1982)', 1982, 2017, 'Жан-Мишель Баския 🇺🇸', 'Фигуративная Живопись', 3],\n",
        "        [88.3, 'Стог сена', 1891, 2016, 'Клод Моне 🇫🇷', 'Пейзаж', 5],\n",
        "        [71.9, 'Без названия XXV', 1977, 2016, 'Виллем де Кунинг 🇺🇸', 'Композиция', 1],\n",
        "        [68.5, 'Сидящая женщина', 1909, 2016, 'Пабло Пикассо 🇪🇸', 'Портрет', 3],\n",
        "        [194.5, 'Алжирские женщины («Версия O»)', 1955, 2015, 'Пабло Пикассо 🇪🇸', 'Жанровая живопись', 3],\n",
        "        [184.8, \"Обнаженная, лежащая на левом боку\", 1918, 2015, 'Амедео Модильяни 🇮🇹', 'Ню', 7],\n",
        "        [103.4, 'Медсестра', 1964, 2015, 'Рой Лихтенштейн 🇺🇸', 'Портрет', 7],\n",
        "        [81.3, 'Черный огонь I', 1961, 2014, 'Барнетт Ньюмен 🇺🇸', 'Композиция', 1],\n",
        "        [79.2, 'Тройной Элвис', 1963, 2014, 'Энди Уорхол 🇺🇸', 'Портрет', 10],\n",
        "        [78.1, 'Три наброска к портрету Джона Эдвардса', 1984, 2014, 'Фрэнсис Бэкон 🇬🇧', 'Портрет', 6],\n",
        "        [141.9, 'Три наброска к портрету Люсьена Фрейда', 1969, 2013, 'Фрэнсис Бэкон 🇬🇧', 'Портрет', 6],\n",
        "        [105.0, 'Авария серебряной машины (Двойная катастрофа)', 1963, 2013, 'Энди Уорхол 🇺🇸', 'Жанровая живопись', 10],\n",
        "        [58.1, \"Номер 19, 1948\", 1948, 2013, 'Джексон Поллок 🇺🇸', 'Композиция', 1],\n",
        "        [121.3, \"Крик, 1895\", 1895, 2012, 'Эдвард Мунк 🇳🇴', 'Жанровая живопись', 4],\n",
        "        [87.8, \"Оранжевый, красный, жёлтый\", 1961, 2012, 'Марк Ротко 🇺🇸', 'Композиция', 1],\n",
        "        [75.9, '№ 1 (Королевский красный и голубой)', 1954, 2012, 'Марк Ротко 🇺🇸', 'Композиция', 1],\n",
        "        [64.8, 'Орел на сосне', 1946, 2011, 'Ци Байши 🇨🇳', 'Пейзаж', 4],\n",
        "        [62.3, '1949-A-No.1', 1949, 2011, 'Клиффорд Стилл 🇺🇸', 'Композиция', 1],\n",
        "        [61.3, 'Чжи Чуань поднимается в гору', 1370, 2011, 'Ван Мэн 🇨🇳', 'Жанровая живопись', 4],\n",
        "        [107.7, \"Обнажённая, зелёные листья и бюст\", 1932, 2010, 'Пабло Пикассо 🇪🇸', 'Портрет', 2],\n",
        "        [69.7, \"Обнажённая, сидящая на диване\", 1917, 2010, 'Амедео Модильяни 🇮🇹', 'Ню', 7],\n",
        "        [64.0, 'Мужчины в ее жизни', 1962, 2010, 'Энди Уорхол 🇺🇸', 'Портрет', 10],\n",
        "        [44.2, 'Голова музы', 1511, 2009, 'Рафаэль 🇮🇹', 'Портрет', 10],\n",
        "        [45.2, 'Часы с кукушкой и ковер в синих и красных тонах', 1911, 2009, 'Анри Матисс 🇫🇷', 'Натюрморт', 5],\n",
        "        [47.3, '200 однодолларовых купюр', 1962, 2009, 'Энди Уорхол 🇺🇸', 'Композиция', 10],\n",
        "        [93.1, \"Триптих, 1976\", 1976, 2008, 'Фрэнсис Бэкон 🇬🇧', 'Портрет', 6],\n",
        "        [61.8, 'Пруд с водяными лилиями', 1919, 2008, 'Клод Моне 🇫🇷', 'Пейзаж', 5],\n",
        "        [64.7, 'Супрематическая композиция', 1919, 2008, 'Казимир Малевич 🇷🇺', 'Композиция', 1],\n",
        "        [81.6, \"Белый центр (жёлтое, розовое и лиловое на розовом)\", 1950, 2007, 'Марк Ротко 🇺🇸', 'Композиция', 1],\n",
        "        [52.7, 'Набросок к портрету папы Иннокентия X', 1962, 2007, 'Фрэнсис Бэкон 🇬🇧', 'Портрет', 6],\n",
        "        [89.9, 'Авария зелёной машины', 1963, 2007, 'Энди Уорхол 🇺🇸', 'Жанровая живопись', 10],\n",
        "        [109.7, 'Дора Маар с кошкой', 1941, 2006, 'Пабло Пикассо 🇪🇸', 'Портрет', 3],\n",
        "        [101.3, 'Портрет Адели Блох-Бауэр II', 1912, 2006, 'Густав Климт 🇦🇹', 'Портрет', 8],\n",
        "        [46.5, 'Мужчина с топором', 1891, 2006, 'Поль Гоген 🇫🇷', 'Жанровая живопись', 5],\n",
        "        [34.3, \"Венеция: Гранд канал, вид с северо-востока от Палаццо Балби на мост Риальто\", 1724, 2005, 'Каналетто 🇮🇹', 'Пейзаж', 10],\n",
        "        [25.8, 'Прачка', 1886, 2005, 'Анри де Тулуз-Лотрек 🇫🇷', 'Портрет', 10],\n",
        "        [25.8, 'Дань уважения Матиссу', 1954, 2005, 'Марк Ротко 🇺🇸', 'Композиция', 1]\n",
        "]"
      ],
      "execution_count": null,
      "outputs": []
    },
    {
      "cell_type": "markdown",
      "metadata": {
        "id": "DxiJ8bPVXYAR"
      },
      "source": [
        "<h1><strong><font color=\"#FF732B\">Определение (создание) функций</font></strong></h1>"
      ]
    },
    {
      "cell_type": "markdown",
      "metadata": {
        "id": "cKwSD25uUveg"
      },
      "source": [
        "<p><img src=\"https://u.foxford.ngcdn.ru/uploads/inner_file/file/97141/giffycanvas2.gif\"></p>"
      ]
    },
    {
      "cell_type": "markdown",
      "metadata": {
        "id": "yycr3WMIBITo"
      },
      "source": [
        "<p><img src=\"https://u.foxford.ngcdn.ru/uploads/inner_file/file/97148/giffycanvas3.gif\"></p>"
      ]
    },
    {
      "cell_type": "markdown",
      "metadata": {
        "id": "LOB4zEAmOzcd"
      },
      "source": [
        "<p><img src=\"https://u.foxford.ngcdn.ru/uploads/inner_file/file/97160/giffycanvas4.gif\"></p>"
      ]
    },
    {
      "cell_type": "markdown",
      "metadata": {
        "id": "v_34-uok1iyt"
      },
      "source": [
        "<h3><strong><font color=\"#809BFF\">Задача №2</font></strong></h3>\n",
        "\n",
        "Напиши функцию `calc_inflation()`, которая сможет посчитать стоимость картины «Лежащая обнажённая» с учетом инфляции. Функция должна принимать стоимость картины, умножать ее на коэффициент `inflation_coefficient` и печатать результат в формате `Скорректированная стоимость картины: $...`. Результат перемножения сохрани в переменной `new_price` и попробуй напечатать ее вне функции."
      ]
    },
    {
      "cell_type": "code",
      "metadata": {
        "id": "o_3zPjU42aVI",
        "colab": {
          "base_uri": "https://localhost:8080/"
        },
        "outputId": "3a4de705-80e3-42bb-8f99-770216973d17"
      },
      "source": [
        "inflation_coefficient = 1.1\n",
        "\n",
        "# определи функцию\n",
        "def calc_inflation(price):\n",
        "  global new_price\n",
        "  new_price = price * inflation_coefficient\n",
        "  print(f'Скорректиованная стоимость: ${new_price:.1f}')\n",
        "# вызови функцию\n",
        "calc_inflation(art_market_dataset[3][0])\n",
        "\n",
        "# попробуй напечатать переменную new_price\n",
        "new_price"
      ],
      "execution_count": null,
      "outputs": [
        {
          "output_type": "stream",
          "name": "stdout",
          "text": [
            "Скорректиованная стоимость: $179.3\n"
          ]
        },
        {
          "output_type": "execute_result",
          "data": {
            "text/plain": [
              "179.3"
            ]
          },
          "metadata": {},
          "execution_count": 3
        }
      ]
    },
    {
      "cell_type": "markdown",
      "metadata": {
        "id": "FOSHeqzcmBeq"
      },
      "source": [
        "<h3><strong><font color=\"#809BFF\">Задача №3</font></strong></h3>\n",
        "\n",
        "Напиши функцию `calc_column_mean()`, которая сможет вычислить среднее арифметическое значение столбца «Стоимость, млн $» и напечатает результат в формате `Среднее значение столбца «Стоимость, млн $»: ...` с одним знаком после точки."
      ]
    },
    {
      "cell_type": "code",
      "metadata": {
        "id": "Vfj6tRarmBMu",
        "colab": {
          "base_uri": "https://localhost:8080/"
        },
        "outputId": "6f593961-098f-4080-a630-0c2404984b17"
      },
      "source": [
        "# объяви и напиши функцию\n",
        "def calc_column_mean(data, column_title, column):\n",
        "  sum_ = 0\n",
        "  for row in data:\n",
        "    sum_ += row[column]\n",
        "  mean = sum_/len(data)\n",
        "  print(f'Среднее значение столбца {column_title}: {mean:.1f}')\n",
        "# вызови функцию\n",
        "calc_column_mean(art_market_dataset, 'Стоимость, млн $', 0)"
      ],
      "execution_count": null,
      "outputs": [
        {
          "output_type": "stream",
          "name": "stdout",
          "text": [
            "Среднее значение столбца Стоимость, млн $: 95.1\n"
          ]
        }
      ]
    },
    {
      "cell_type": "markdown",
      "metadata": {
        "id": "Cg-crjxGnZ5d"
      },
      "source": [
        "<h1><strong><font color=\"#FF732B\">Добавляем условные выражения</font></strong></h1>"
      ]
    },
    {
      "cell_type": "markdown",
      "metadata": {
        "id": "i-3YOldDvpds"
      },
      "source": [
        "<p><img src=\"https://u.foxford.ngcdn.ru/uploads/inner_file/file/97175/48.png\"></p>"
      ]
    },
    {
      "cell_type": "markdown",
      "metadata": {
        "id": "TwSpiombvpnL"
      },
      "source": [
        "<p><img src=\"https://u.foxford.ngcdn.ru/uploads/inner_file/file/97178/49.png\"></p>"
      ]
    },
    {
      "cell_type": "markdown",
      "metadata": {
        "id": "WfTzt_ziodk3"
      },
      "source": [
        "<h3><strong><font color=\"#809BFF\">Задача №4</font></strong></h3>\n",
        "\n",
        "Напиши функцию `check_number()`, которая помогает угадать количество художников в списке `american_artists`. Если функция вызывается со слишком маленьким числом — на экране печатается `'Маловато взяли! Художников больше, чем ...`, а если со слишком большим — `Художников меньше или ровно ...`."
      ]
    },
    {
      "cell_type": "code",
      "metadata": {
        "id": "oz1PbL2aookW"
      },
      "source": [
        "american_artists = [\n",
        "    'Роберт Раушенберг 🇺🇸',\n",
        "    'Эдвард Хоппер 🇺🇸',\n",
        "    'Жан-Мишель Баския 🇺🇸',\n",
        "    'Виллем де Кунинг 🇺🇸',\n",
        "    'Рой Лихтенштейн 🇺🇸',\n",
        "    'Барнетт Ньюмен 🇺🇸',\n",
        "    'Энди Уорхол 🇺🇸',\n",
        "    'Джексон Поллок 🇺🇸',\n",
        "    'Марк Ротко 🇺🇸',\n",
        "    'Клиффорд Стилл 🇺🇸',\n",
        "]\n",
        "\n",
        "# объяви и напиши функцию\n",
        "\n",
        "# потестируй функцию с разными числами\n"
      ],
      "execution_count": null,
      "outputs": []
    },
    {
      "cell_type": "markdown",
      "metadata": {
        "id": "Z9icFdKYwU9X"
      },
      "source": [
        "<p><img src=\"https://u.foxford.ngcdn.ru/uploads/inner_file/file/97180/50.5.png\"></p>"
      ]
    },
    {
      "cell_type": "markdown",
      "metadata": {
        "id": "D7voNE64o3Ul"
      },
      "source": [
        "<h3><strong><font color=\"#809BFF\">Задача №5</font></strong></h3>\n",
        "\n",
        "Напиши вторую версию функции `check_number()` — `check_number_v2()`, добавив в нее новое условие. Если функция вызывается со слишком маленьким числом — на экране печатается `Маловато взяли! Художников больше, чем ...`, если со слишком большим — `Перебор! Художников меньше, чем ...`, а если с правильным — `В яблочко! Художников ровно ...`. Эта функция также работает по списку `american_artists`. Реализация должна быть с помощью вложенных условий."
      ]
    },
    {
      "cell_type": "code",
      "metadata": {
        "id": "VgMkhUKMpDc_",
        "colab": {
          "base_uri": "https://localhost:8080/"
        },
        "outputId": "d28caf82-ef7b-4e66-9bac-4a04ca132aed"
      },
      "source": [
        "# объяви и напиши функцию\n",
        "def check_number_v2(data, number):\n",
        "  if len(data)>number:\n",
        "    print(f'Маловато взяли! Художников больше, чем {number}')\n",
        "  else:\n",
        "    if len(data) < number:\n",
        "      print(f'Перебор! Художников меньше, чем {number}')\n",
        "    else:\n",
        "      print(f'В яблочко! Художников ровно {number}')\n",
        "\n",
        "# потестируй функцию с разными числами\n",
        "check_number_v2(american_artists, 10)"
      ],
      "execution_count": null,
      "outputs": [
        {
          "output_type": "stream",
          "name": "stdout",
          "text": [
            "В яблочко! Художников ровно 10\n"
          ]
        }
      ]
    },
    {
      "cell_type": "markdown",
      "metadata": {
        "id": "80KC9Dhe5qmA"
      },
      "source": [
        "<p><img src=\"https://u.foxford.ngcdn.ru/uploads/inner_file/file/97181/50.png\"></p>"
      ]
    },
    {
      "cell_type": "markdown",
      "metadata": {
        "id": "wSbNt6efpKLm"
      },
      "source": [
        "<h3><strong><font color=\"#809BFF\">Задача №6</font></strong></h3>\n",
        "\n",
        "Напишите третью версию функции `check_number()` — `check_number_v3()`, заменив реализацию с помощью вложенного условия на ключевое слово `elif`."
      ]
    },
    {
      "cell_type": "code",
      "metadata": {
        "id": "GgBSntJspdmL",
        "colab": {
          "base_uri": "https://localhost:8080/"
        },
        "outputId": "60fde551-6142-4474-e4d4-750782b69ae7"
      },
      "source": [
        "def check_number_v3(data, number):\n",
        "  if len(data)>number:\n",
        "    print(f'Маловато взяли! Художников больше, чем {number}')\n",
        "  elif len(data) < number:\n",
        "    print(f'Перебор! Художников меньше, чем {number}')\n",
        "  else:\n",
        "    print(f'В яблочко! Художников ровно {number}')\n",
        "\n",
        "# потестируй функцию с разными числами\n",
        "check_number_v3(american_artists, 13)"
      ],
      "execution_count": null,
      "outputs": [
        {
          "output_type": "stream",
          "name": "stdout",
          "text": [
            "Перебор! Художников меньше, чем 13\n"
          ]
        }
      ]
    },
    {
      "cell_type": "markdown",
      "metadata": {
        "id": "9h_PuJAYplGo"
      },
      "source": [
        "<h1><strong><font color=\"#FF732B\">Операторы in и not in</font></strong></h1>"
      ]
    },
    {
      "cell_type": "markdown",
      "metadata": {
        "id": "jaMIn6AQ8FD8"
      },
      "source": [
        "<p><img src=\"https://u.foxford.ngcdn.ru/uploads/inner_file/file/97184/51.png\"></p>"
      ]
    },
    {
      "cell_type": "markdown",
      "metadata": {
        "id": "KQyEI7qbpum6"
      },
      "source": [
        "<h3><strong><font color=\"#809BFF\">Задача №7</font></strong></h3>\n",
        "\n",
        "Напиши функцию `check_name()`, которая проверяет наличие художника в списке `american_artists`. Если художник есть в списке — выводи на экран `... есть в нашем датасете!`, а если нет — `К сожалению, ... в датасете не найден.`"
      ]
    },
    {
      "cell_type": "code",
      "metadata": {
        "id": "7sU4YJPup8CO",
        "colab": {
          "base_uri": "https://localhost:8080/",
          "height": 198
        },
        "outputId": "7a67a35c-0d17-480a-ba24-3521bd3c57bb"
      },
      "source": [
        "# объяви и напиши функцию\n",
        "def check_name(data, artist_name):\n",
        "  if artist_name in data:\n",
        "    print(f'{artist_name} есть в нашем датасете')\n",
        "  else:\n",
        "    print(f'К сожалению, {artist_name} в датасете не найден')\n",
        "\n",
        "# потестируй функцию с разными числами\n",
        "check_name(american_artists, 'Жан-Мишель Баския')"
      ],
      "execution_count": null,
      "outputs": [
        {
          "output_type": "error",
          "ename": "NameError",
          "evalue": "ignored",
          "traceback": [
            "\u001b[0;31m---------------------------------------------------------------------------\u001b[0m",
            "\u001b[0;31mNameError\u001b[0m                                 Traceback (most recent call last)",
            "\u001b[0;32m<ipython-input-9-674298fe5b10>\u001b[0m in \u001b[0;36m<module>\u001b[0;34m()\u001b[0m\n\u001b[1;32m      7\u001b[0m \u001b[0;34m\u001b[0m\u001b[0m\n\u001b[1;32m      8\u001b[0m \u001b[0;31m# потестируй функцию с разными числами\u001b[0m\u001b[0;34m\u001b[0m\u001b[0;34m\u001b[0m\u001b[0;34m\u001b[0m\u001b[0m\n\u001b[0;32m----> 9\u001b[0;31m \u001b[0mcheck_name\u001b[0m\u001b[0;34m(\u001b[0m\u001b[0mamerican_artists\u001b[0m\u001b[0;34m,\u001b[0m \u001b[0;34m'Жан-Мишель Баския'\u001b[0m\u001b[0;34m)\u001b[0m\u001b[0;34m\u001b[0m\u001b[0;34m\u001b[0m\u001b[0m\n\u001b[0m",
            "\u001b[0;31mNameError\u001b[0m: name 'american_artists' is not defined"
          ]
        }
      ]
    },
    {
      "cell_type": "markdown",
      "metadata": {
        "id": "chqxQb3Fq5OQ"
      },
      "source": [
        "<h1><strong><font color=\"#FF732B\">Логический тип данных и операторы and, or, not</font></strong></h1>"
      ]
    },
    {
      "cell_type": "markdown",
      "metadata": {
        "id": "_KGtGC-QNOiI"
      },
      "source": [
        "<p><img src=\"https://u.foxford.ngcdn.ru/uploads/inner_file/file/97186/52.png\"></p>"
      ]
    },
    {
      "cell_type": "markdown",
      "metadata": {
        "id": "Be-mqxOKNO_A"
      },
      "source": [
        "<p><img src=\"https://u.foxford.ngcdn.ru/uploads/inner_file/file/97187/53.png\"></p>"
      ]
    },
    {
      "cell_type": "markdown",
      "metadata": {
        "id": "2ueHDI6TNner"
      },
      "source": [
        "<h3><strong><font color=\"#809BFF\">Задача №8</font></strong></h3>\n",
        "\n",
        "Напиши функцию `filt_by_creation_data()`, которая наполняет таблицу всеми картинами, созданными с 1800 по 1900 годы. Код для печати таблицы уже подготовлен."
      ]
    },
    {
      "cell_type": "code",
      "metadata": {
        "id": "tv-6PS7CNozS",
        "colab": {
          "base_uri": "https://localhost:8080/"
        },
        "outputId": "0fddee1b-61ef-4498-cdbc-3ec743721f89"
      },
      "source": [
        "def filt_by_creation_data(data, start, end): # объяви функцию\n",
        "    new_table = [] # создай пустой список и цикл\n",
        "    for row in data:\n",
        "      if row[2]>=start and row[2]<= end:\n",
        "        new_table.append([row[0], row[1], row[2]])\n",
        "    print(f'Все картины, созданные с {start} по {end} годы:\\n')\n",
        "    print('Cтоимость, млн $ | Название             | Год создания')\n",
        "    print('-' * 54)\n",
        "\n",
        "    for row in new_table:\n",
        "        print(f'{row[0]: <16.1f} | {row[1]: <20} | {row[2]: <0}')\n",
        "\n",
        "# вызови функцию для периода с 1800 по 1900 годы\n",
        "filt_by_creation_data(art_market_dataset, 1800, 1900)"
      ],
      "execution_count": null,
      "outputs": [
        {
          "output_type": "stream",
          "name": "stdout",
          "text": [
            "Все картины, созданные с 1800 по 1900 годы:\n",
            "\n",
            "Cтоимость, млн $ | Название             | Год создания\n",
            "------------------------------------------------------\n",
            "112.7            | Стога сена           | 1890\n",
            "60.4             | Кувшин и фрукты      | 1890\n",
            "88.3             | Стог сена            | 1891\n",
            "121.3            | Крик, 1895           | 1895\n",
            "46.5             | Мужчина с топором    | 1891\n",
            "25.8             | Прачка               | 1886\n"
          ]
        }
      ]
    },
    {
      "cell_type": "markdown",
      "metadata": {
        "id": "QvK40KQ3O5bg"
      },
      "source": [
        "<p><img src=\"https://u.foxford.ngcdn.ru/uploads/inner_file/file/97188/54.png\"></p>"
      ]
    },
    {
      "cell_type": "markdown",
      "metadata": {
        "id": "ER4w2q-CPItB"
      },
      "source": [
        "<h3><strong><font color=\"#809BFF\">Задача №9</font></strong></h3>\n",
        "\n",
        "Напиши функцию `filt_by_genre_and_sale_date()`, которая наполняет таблицу всеми картинами жанра «Композиция», проданными после 2012 года или картинами жанра «Пейзаж», проданными так же после 2012 года. \n",
        "\n",
        "Новая таблица имеет 4 столбца — Стоимость, Название, Жанр и Год продажи. Отсортируй ее по убыванию стоимости и напечай все строки. \n",
        "\n",
        "Код для печати уже подготовлен."
      ]
    },
    {
      "cell_type": "code",
      "metadata": {
        "id": "7qsnRpR0PXg7",
        "colab": {
          "base_uri": "https://localhost:8080/"
        },
        "outputId": "5dea7601-1de8-447e-8209-9784365b8a64"
      },
      "source": [
        "def filt_by_genre_and_sale_date(data, genre1, genre2, sale_date): # объяви функцию\n",
        "    new_table = [] # создай пустой список и цикл\n",
        "    for row in data:\n",
        "      if row[5] == genre1 or row[5] == genre2 and row[3] > sale_date:\n",
        "        new_table.append([row[0], row[1], row[5], row[3]])\n",
        "    print(f'Все картины жанра «{genre1}» и «{genre2}», проданные после {sale_date} года:\\n')\n",
        "    print('Cтоимость, млн $ | Название                    | Жанр       | Год продажи')\n",
        "    print('-' * 73)\n",
        "\n",
        "    for row in new_table:\n",
        "        print(f'{row[0]: <16.1f} | {row[1]: <27} | {row[2]: <10} | {row[3]: <0}')\n",
        "\n",
        "# вызови функцию для нужных жанров и года продажи\n",
        "filt_by_genre_and_sale_date(art_market_dataset, 'Композиция', 'Пейзаж', 2012)"
      ],
      "execution_count": null,
      "outputs": [
        {
          "output_type": "stream",
          "name": "stdout",
          "text": [
            "Все картины жанра «Композиция» и «Пейзаж», проданные после 2012 года:\n",
            "\n",
            "Cтоимость, млн $ | Название                    | Жанр       | Год продажи\n",
            "-------------------------------------------------------------------------\n",
            "112.7            | Стога сена                  | Пейзаж     | 2019\n",
            "149.6            | Двенадцать ландшафтных сцен | Пейзаж     | 2017\n",
            "88.3             | Стог сена                   | Пейзаж     | 2016\n",
            "71.9             | Без названия XXV            | Композиция | 2016\n",
            "81.3             | Черный огонь I              | Композиция | 2014\n",
            "58.1             | Номер 19, 1948              | Композиция | 2013\n",
            "87.8             | Оранжевый, красный, жёлтый  | Композиция | 2012\n",
            "75.9             | № 1 (Королевский красный и голубой) | Композиция | 2012\n",
            "62.3             | 1949-A-No.1                 | Композиция | 2011\n",
            "47.3             | 200 однодолларовых купюр    | Композиция | 2009\n",
            "64.7             | Супрематическая композиция  | Композиция | 2008\n",
            "81.6             | Белый центр (жёлтое, розовое и лиловое на розовом) | Композиция | 2007\n",
            "25.8             | Дань уважения Матиссу       | Композиция | 2005\n"
          ]
        }
      ]
    },
    {
      "cell_type": "markdown",
      "metadata": {
        "id": "SFQ2atPG74ev"
      },
      "source": [
        "<p><img src=\"https://u.foxford.ngcdn.ru/uploads/inner_file/file/97592/58.png\"></p>"
      ]
    },
    {
      "cell_type": "markdown",
      "metadata": {
        "id": "eHFZOhnVrZkG"
      },
      "source": [
        "<h1><strong><font color=\"#FF732B\">Возврат значений</font></strong></h1>"
      ]
    },
    {
      "cell_type": "markdown",
      "metadata": {
        "id": "KyGC0AZwYGQC"
      },
      "source": [
        "<p><img src=\"https://u.foxford.ngcdn.ru/uploads/inner_file/file/97617/59.png\"></p>"
      ]
    },
    {
      "cell_type": "markdown",
      "metadata": {
        "id": "GBVmR90P4Cej"
      },
      "source": [
        "<p><img src=\"https://u.foxford.ngcdn.ru/uploads/inner_file/file/97690/giffycanvas5.gif\"></p>"
      ]
    },
    {
      "cell_type": "markdown",
      "metadata": {
        "id": "A4cs4O9FYjM1"
      },
      "source": [
        "<h3><strong><font color=\"#809BFF\">Задача №10</font></strong></h3>\n",
        "\n",
        "Разобьем функционал `filt_by_genre_and_sale_date()` на 2 части (то есть отдельные функции). \n",
        "\n",
        "Первая — `return_filtration_result()` — будет фильтровать `art_market_dataset` по заданным параметрам, сохранять результат в новый список и возвращать его. \n",
        "\n",
        "Результат работы этой функции — сохрани в переменную `function_result`, передав в качестве аргументов все те же жанры «Композиция» и «Пейзаж», а так же 2012 как год продажи."
      ]
    },
    {
      "cell_type": "code",
      "metadata": {
        "id": "5xLD63C6SL00",
        "colab": {
          "base_uri": "https://localhost:8080/",
          "height": 198
        },
        "outputId": "a62759d9-09ec-453c-9235-04016f9c2c90"
      },
      "source": [
        "def filt_by_genre_and_sale_date(data, genre1, genre2, sale_date): # объяви функцию\n",
        "    new_table = [] # создай пустой список и цикл\n",
        "    for row in data:\n",
        "      if row[5] == genre1 or row[5] == genre2 and row[3] > sale_date:\n",
        "        new_table.append([row[0], row[1], row[5], row[3]])\n",
        "    return new_table\n",
        "print(filt_by_genre_and_sale_date(art_market_dataset, 'Композиция', 'Пейзаж', 2012))"
      ],
      "execution_count": null,
      "outputs": [
        {
          "output_type": "error",
          "ename": "NameError",
          "evalue": "ignored",
          "traceback": [
            "\u001b[0;31m---------------------------------------------------------------------------\u001b[0m",
            "\u001b[0;31mNameError\u001b[0m                                 Traceback (most recent call last)",
            "\u001b[0;32m<ipython-input-8-4e154905d82c>\u001b[0m in \u001b[0;36m<module>\u001b[0;34m()\u001b[0m\n\u001b[1;32m      5\u001b[0m         \u001b[0mnew_table\u001b[0m\u001b[0;34m.\u001b[0m\u001b[0mappend\u001b[0m\u001b[0;34m(\u001b[0m\u001b[0;34m[\u001b[0m\u001b[0mrow\u001b[0m\u001b[0;34m[\u001b[0m\u001b[0;36m0\u001b[0m\u001b[0;34m]\u001b[0m\u001b[0;34m,\u001b[0m \u001b[0mrow\u001b[0m\u001b[0;34m[\u001b[0m\u001b[0;36m1\u001b[0m\u001b[0;34m]\u001b[0m\u001b[0;34m,\u001b[0m \u001b[0mrow\u001b[0m\u001b[0;34m[\u001b[0m\u001b[0;36m5\u001b[0m\u001b[0;34m]\u001b[0m\u001b[0;34m,\u001b[0m \u001b[0mrow\u001b[0m\u001b[0;34m[\u001b[0m\u001b[0;36m3\u001b[0m\u001b[0;34m]\u001b[0m\u001b[0;34m]\u001b[0m\u001b[0;34m)\u001b[0m\u001b[0;34m\u001b[0m\u001b[0;34m\u001b[0m\u001b[0m\n\u001b[1;32m      6\u001b[0m     \u001b[0;32mreturn\u001b[0m \u001b[0mnew_table\u001b[0m\u001b[0;34m\u001b[0m\u001b[0;34m\u001b[0m\u001b[0m\n\u001b[0;32m----> 7\u001b[0;31m \u001b[0mprint\u001b[0m\u001b[0;34m(\u001b[0m\u001b[0mfilt_by_genre_and_sale_date\u001b[0m\u001b[0;34m(\u001b[0m\u001b[0mart_market_dataset\u001b[0m\u001b[0;34m,\u001b[0m \u001b[0;34m'Композиция'\u001b[0m\u001b[0;34m,\u001b[0m \u001b[0;34m'Пейзаж'\u001b[0m\u001b[0;34m,\u001b[0m \u001b[0;36m2012\u001b[0m\u001b[0;34m)\u001b[0m\u001b[0;34m)\u001b[0m\u001b[0;34m\u001b[0m\u001b[0;34m\u001b[0m\u001b[0m\n\u001b[0m",
            "\u001b[0;31mNameError\u001b[0m: name 'art_market_dataset' is not defined"
          ]
        }
      ]
    },
    {
      "cell_type": "markdown",
      "metadata": {
        "id": "cKg6buvGY-75"
      },
      "source": [
        "<h3><strong><font color=\"#809BFF\">Задача №11</font></strong></h3>\n",
        "\n",
        "Напиши функцию `print_filtration_result()`, которая принимает результат работы `return_filtration_result()` и выводит отфильтрованную таблицу на экран. \n",
        "\n",
        "Вызывая функцию, ты можешь передать ей как переменную `function_result`, так и «скормить» саму `return_filtration_result()` с соответствующими параметрами. \n",
        "\n",
        "В конце проанализируй первоначальный вариант функции `filt_by_genre_and_sale_date()` и новую логику разбиения. \n",
        "\n",
        "Что изменилось?"
      ]
    },
    {
      "cell_type": "code",
      "metadata": {
        "id": "gFRSyhBlZgNQ",
        "colab": {
          "base_uri": "https://localhost:8080/",
          "height": 198
        },
        "outputId": "575360b6-a98e-4a83-8b50-bf57dcfba4fb"
      },
      "source": [
        "def print_filtration_result(data, genre1, genre2, sale_date):\n",
        "    print(f'Все картины жанра «{genre1}» и «{genre2}», проданные после {sale_date} года:\\n')\n",
        "    print('Cтоимость, млн $ | Название                    | Жанр       | Год продажи')\n",
        "    print('-' * 73)\n",
        "    # допиши цикл для печати\n",
        "    for row in filt_by_genre_and_sale_date(data, genre1, genre2, sale_date):\n",
        "        print(f'{row[0]: <16.1f} | {row[1]: <27} | {row[2]: <10} | {row[3]: <0}')\n",
        "# вызови функцию\n",
        "print_filtration_result(art_market_dataset, 'Фигуративная Живопись', 'Портрет', 2019)"
      ],
      "execution_count": null,
      "outputs": [
        {
          "output_type": "error",
          "ename": "NameError",
          "evalue": "ignored",
          "traceback": [
            "\u001b[0;31m---------------------------------------------------------------------------\u001b[0m",
            "\u001b[0;31mNameError\u001b[0m                                 Traceback (most recent call last)",
            "\u001b[0;32m<ipython-input-7-ae5582aaa120>\u001b[0m in \u001b[0;36m<module>\u001b[0;34m()\u001b[0m\n\u001b[1;32m      7\u001b[0m         \u001b[0mprint\u001b[0m\u001b[0;34m(\u001b[0m\u001b[0;34mf'{row[0]: <16.1f} | {row[1]: <27} | {row[2]: <10} | {row[3]: <0}'\u001b[0m\u001b[0;34m)\u001b[0m\u001b[0;34m\u001b[0m\u001b[0;34m\u001b[0m\u001b[0m\n\u001b[1;32m      8\u001b[0m \u001b[0;31m# вызови функцию\u001b[0m\u001b[0;34m\u001b[0m\u001b[0;34m\u001b[0m\u001b[0;34m\u001b[0m\u001b[0m\n\u001b[0;32m----> 9\u001b[0;31m \u001b[0mprint_filtration_result\u001b[0m\u001b[0;34m(\u001b[0m\u001b[0mart_market_dataset\u001b[0m\u001b[0;34m,\u001b[0m \u001b[0;34m'Фигуративная Живопись'\u001b[0m\u001b[0;34m,\u001b[0m \u001b[0;34m'Портрет'\u001b[0m\u001b[0;34m,\u001b[0m \u001b[0;36m2019\u001b[0m\u001b[0;34m)\u001b[0m\u001b[0;34m\u001b[0m\u001b[0;34m\u001b[0m\u001b[0m\n\u001b[0m",
            "\u001b[0;31mNameError\u001b[0m: name 'art_market_dataset' is not defined"
          ]
        }
      ]
    },
    {
      "cell_type": "markdown",
      "metadata": {
        "id": "i7KImah_EBVy"
      },
      "source": [
        "<h1><strong><font color=\"#FC4262\">Домашняя работа</font></strong></h1>"
      ]
    },
    {
      "cell_type": "markdown",
      "metadata": {
        "id": "BdNn502i2vTz"
      },
      "source": [
        "Вот несколько шагов, чтобы настроить удобную работу над домашними задачами:\n",
        "\n",
        "1. В сервисе [Google Drive](https://www.google.com/intl/ru/drive/) создай папку `foxford_ds_study` (если еще этого не сделал), в которой ты будешь хранить все учебные материалы с этого курса.\n",
        "2. Сохрани копию этой тетрадки `Лекция №4.ipynb` *(File → Save a copy in Drive)* в папку `foxford_ds_study`.\n",
        "\n",
        "Зачем это нужно? \n",
        "\n",
        "Файл, в котором работает преподаватель — это «оригинальный» файл и мы не можем работать в нем все вместе, ведь у каждого свой код! Каждому ученику необходимо сделать свою копию файла и выполнять домашку именно в ней. Если хочешь, ты можешь назвать свой файл по имени, например, `Лекция №4 Иван Кнопочкин.ipynb`.\n",
        "\n",
        "В начале следующей лекции мы обсудим эти задачи вместе."
      ]
    },
    {
      "cell_type": "markdown",
      "metadata": {
        "id": "gdTGJhGhFs9U"
      },
      "source": [
        "<h3><strong><font color=\"#809BFF\">Задача №12</font></strong></h3>\n",
        "\n",
        "Напиши функцию `print_top_3()`, которая напечатает 3 самые дорогие картины из вложенного списка `top_3`. Шаблон вывода:"
      ]
    },
    {
      "cell_type": "code",
      "metadata": {
        "id": "weKHsu5CF7kd"
      },
      "source": [
        "top_3 = [\n",
        "    ['Спаситель мира', 478.1],\n",
        "    ['Алжирские женщины («Версия O»)', 194.5],\n",
        "    ['Обнаженная, лежащая на левом боку', 184.8]\n",
        "]\n",
        "\n",
        "# объяви и напиши функцию\n",
        "\n",
        "\n",
        "# вызови функцию\n",
        "..."
      ],
      "execution_count": null,
      "outputs": []
    },
    {
      "cell_type": "markdown",
      "metadata": {
        "id": "CLDUH8qNqBwj"
      },
      "source": [
        "<h3><strong><font color=\"#809BFF\">Задача №13</font></strong></h3>\n",
        "\n",
        "Напиши вторую версию функции `check_name()` — `check_name_v2()`, которая проверяет список на «не наличие» элемента."
      ]
    },
    {
      "cell_type": "code",
      "metadata": {
        "id": "nih1nsu_qI8o"
      },
      "source": [
        "# объяви и напиши функцию\n",
        "...\n",
        "\n",
        "# потестируй функцию с разными числами\n",
        "..."
      ],
      "execution_count": null,
      "outputs": []
    },
    {
      "cell_type": "markdown",
      "metadata": {
        "id": "2h9zbT554ZA0"
      },
      "source": [
        "<h3><strong><font color=\"#809BFF\">Задача №14</font></strong></h3>\n",
        "\n",
        "Разбей `filt_by_creation_data()` на 2 отдельные функции.\n",
        "\n",
        "Первая будет фильтровать `art_market_dataset` по заданным параметрам, сохранять результат в новый список и возвращать его.\n",
        "\n",
        "Результат работы этой функции сохрани в отдельную переменную, передав в качестве аргументов набор данных, а так же период создания с 1800 по 1900 годы.\n",
        "\n",
        "Вторая функция должна принимать результат работы первой и выводить отфильтрованную таблицу на экран.\n",
        "\n",
        "Вызывая функцию, ты можешь передать ей как переменную с результатом, так и «скормить» саму функцию с соответствующими параметрами.\n",
        "\n",
        "В конце еще раз проанализируй новую логику разбиения."
      ]
    },
    {
      "cell_type": "code",
      "metadata": {
        "id": "T2MKi53Q4ae3"
      },
      "source": [
        "# объяви и напиши функцию\n",
        "...\n",
        "\n",
        "# потестируй функцию\n",
        "..."
      ],
      "execution_count": null,
      "outputs": []
    },
    {
      "cell_type": "code",
      "metadata": {
        "id": "0gBRjpH_4bqt"
      },
      "source": [
        "# объяви и напиши функцию\n",
        "...\n",
        "\n",
        "# потестируй функцию\n",
        "..."
      ],
      "execution_count": null,
      "outputs": []
    }
  ]
}