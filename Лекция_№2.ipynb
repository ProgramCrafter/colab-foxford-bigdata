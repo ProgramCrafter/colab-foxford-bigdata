{
  "nbformat": 4,
  "nbformat_minor": 0,
  "metadata": {
    "colab": {
      "name": "Лекция №2.ipynb",
      "provenance": [],
      "collapsed_sections": [],
      "include_colab_link": true
    },
    "kernelspec": {
      "name": "python3",
      "display_name": "Python 3"
    },
    "language_info": {
      "name": "python"
    }
  },
  "cells": [
    {
      "cell_type": "markdown",
      "metadata": {
        "id": "view-in-github",
        "colab_type": "text"
      },
      "source": [
        "<a href=\"https://colab.research.google.com/github/ProgramCrafter/colab-foxford-bigdata/blob/master/%D0%9B%D0%B5%D0%BA%D1%86%D0%B8%D1%8F_%E2%84%962.ipynb\" target=\"_parent\"><img src=\"https://colab.research.google.com/assets/colab-badge.svg\" alt=\"Open In Colab\"/></a>"
      ]
    },
    {
      "cell_type": "markdown",
      "metadata": {
        "id": "goKCGXSUoln1"
      },
      "source": [
        "<p><img src=\"https://u.foxford.ngcdn.ru/uploads/inner_file/file/98156/upd2.jpg\"></p>"
      ]
    },
    {
      "cell_type": "markdown",
      "metadata": {
        "id": "fTAUCMGRqM75"
      },
      "source": [
        "___\n",
        "\n",
        "<font color=\"#000000\">Основы Python и глубокого обучения</font>\n",
        "<font color=\"#AEBAC5\"> → </font>\n",
        "<font color=\"#AEBAC5\">Компьютерное зрение (CV)</font>\n",
        "<font color=\"#AEBAC5\"> → </font>\n",
        "<font color=\"#AEBAC5\">Обработка естественного языка (NLP)</font>\n",
        "\n",
        "___"
      ]
    },
    {
      "cell_type": "markdown",
      "metadata": {
        "id": "cZHtFxVrb4iy"
      },
      "source": [
        "<h1><strong><font color=\"#FF732B\">Результат с прошлой лекции</font></strong></h1>"
      ]
    },
    {
      "cell_type": "code",
      "metadata": {
        "id": "bYytm-n0p0Z1"
      },
      "source": [
        "# продолжительность жизни\n",
        "picasso_lifetime = 91 \n",
        "van_gogh_lifetime = 37\n",
        "warhol_lifetime = 58\n",
        "\n",
        "# доля среди 3-х самых популярных художников\n",
        "picasso_share = (picasso_top_100_amount / total_top_100_amount)\n",
        "van_gogh_share = (van_gogh_top_100_amount / total_top_100_amount)\n",
        "warhol_share = (warhol_top_100_amount / total_top_100_amount)\n",
        "\n",
        "# разница между самой поздней и самой ранней картиной\n",
        "picasso_creation_range = 1955 - 1901\n",
        "van_gogh_creation_range = 1890 - 1888\n",
        "warhol_creation_range = 1966 - 1962"
      ],
      "execution_count": null,
      "outputs": []
    },
    {
      "cell_type": "markdown",
      "metadata": {
        "id": "c5SFBfvmnsnr"
      },
      "source": [
        "<p><img src=\"https://u.foxford.ngcdn.ru/uploads/inner_file/file/92622/8repo.png\"></p>"
      ]
    },
    {
      "cell_type": "markdown",
      "metadata": {
        "id": "I-sGbafF2Rr2"
      },
      "source": [
        "| Стоимость, млн $ | Название | Художник | Год создания | Аукционный дом |\n",
        "--- | --- | --- | --- | ---\n",
        "| 193.5 | Алжирские женщины («Версия O») | Пабло Пикассо 🇪🇸 | 1955 | Christie's |\n",
        "| 170.1 | Сон | Пабло Пикассо 🇪🇸 | 1932 | Другой |\n",
        "| 161.4 | Портрет доктора Гаше | Винсент Ван Гог 🇳🇱 | 1890 | Christie's |\n",
        "| 141 | Мальчик с трубкой | Пабло Пикассо 🇪🇸 | 1905 | Sotheby's |\n",
        "| 124.8 | Обнажённая, зелёные листья и бюст | Пабло Пикассо 🇪🇸 | 1932 | Christie's |\n",
        "| 121.3 | Ирисы | Винсент Ван Гог 🇳🇱 | 1889 | Sotheby's |\n",
        "| 120.8 | Дора Маар с кошкой | Пабло Пикассо 🇪🇸 | 1941 | Sotheby's |\n",
        "| 117.1 | Молодая девушка с цветочной корзиной | Пабло Пикассо 🇪🇸 | 1905 | Christie's |\n",
        "| 115.7 | Авария серебряной машины (Двойная катастрофа) | Энди Уорхол 🇺🇸 | 1963 | Sotheby's |\n",
        "| 112.2 | Автопортрет без бороды | Винсент Ван Гог 🇳🇱 | 1889 | Christie's |\n",
        "| 101.7 | Свадьба Пьеретты | Пабло Пикассо 🇪🇸 | 1905 | Другой |\n",
        "| 98.7 | Я, Пикассо | Пабло Пикассо 🇪🇸 | 1901 | Sotheby's |\n",
        "| 89.3 | Подсолнухи | Винсент Ван Гог 🇳🇱 | 1889 | Christie's |\n",
        "| 88.5 | Тройной Элвис | Энди Уорхол 🇺🇸 | 1963 | Christie's |\n",
        "| 88.4 | Авария зелёной машины | Энди Уорхол 🇺🇸 | 1963 | Christie's |\n",
        "| 84.8 | Огороженное поле с пахарем | Винсент Ван Гог 🇳🇱 | 1889 | Christie's |\n",
        "| 83.9 | Проворный кролик | Пабло Пикассо 🇪🇸 | 1904 | Sotheby's |\n",
        "| 83.3 | Акробат и молодой Арлекин | Пабло Пикассо 🇪🇸 | 1905 | Christie's |\n",
        "| 81.7 | Женщина со скрещёнными руками | Пабло Пикассо 🇪🇸 | 1902 | Christie's |\n",
        "| 76 | Женщина, сидящая в саду | Пабло Пикассо 🇪🇸 | 1938 | Sotheby's |\n",
        "| 75.7 | Молодая крестьянка в соломенной шляпке, сидящая в пшенице | Винсент Ван Гог 🇳🇱 | 1890 | Другой |\n",
        "| 75.2 | Четыре Марлона | Энди Уорхол 🇺🇸 | 1966 | Christie's |\n",
        "| 74.3 | Мужчины в ее жизни | Энди Уорхол 🇺🇸 | 1962 | Другой |\n",
        "| 72.8 | Певица кабаре | Пабло Пикассо 🇪🇸 | 1901 | Sotheby's |\n",
        "| 72.7 | Бюст женщины (Дора Маар) | Пабло Пикассо 🇪🇸 | 1938 | Christie's |\n",
        "| 71.5 | Аллея Алискана | Винсент Ван Гог 🇳🇱 | 1888 | Sotheby's |\n",
        "| 70.5 | Женщина в берете и клетчатом платье (Мария Тереза Вальтер) | Пабло Пикассо 🇪🇸 | 1937 | Sotheby's |\n",
        "| | | | | |\n",
        "| | | | | *Таблица 1.0* |"
      ]
    },
    {
      "cell_type": "markdown",
      "metadata": {
        "id": "APTGR0cUpBdt"
      },
      "source": [
        "<h1><strong><font color=\"#FF732B\">Целочисленный и вещественный типы данных</font></strong></h1>"
      ]
    },
    {
      "cell_type": "markdown",
      "metadata": {
        "id": "0HRABtcnqmOQ"
      },
      "source": [
        "<p><img src=\"https://u.foxford.ngcdn.ru/uploads/inner_file/file/94898/shadow1.png\"></p>"
      ]
    },
    {
      "cell_type": "markdown",
      "metadata": {
        "id": "YUUl8Bn6qqIQ"
      },
      "source": [
        "<p><img src=\"https://u.foxford.ngcdn.ru/uploads/inner_file/file/94899/shadow2.png\"></p>"
      ]
    },
    {
      "cell_type": "markdown",
      "metadata": {
        "id": "h08HT68IaS42"
      },
      "source": [
        "<p><img src=\"https://u.foxford.ngcdn.ru/uploads/inner_file/file/93974/12.5.png\"></p>"
      ]
    },
    {
      "cell_type": "markdown",
      "metadata": {
        "id": "38bzpW3De5Ai"
      },
      "source": [
        "<p><img src=\"https://u.foxford.ngcdn.ru/uploads/inner_file/file/93968/12spec.png\"></p>"
      ]
    },
    {
      "cell_type": "markdown",
      "metadata": {
        "id": "W3AuG5bGomY1"
      },
      "source": [
        "<h3><strong><font color=\"#809BFF\">Задача №1</font></strong></h3>\n",
        "\n",
        "Типографской фабрике требуется 0.7 минуты, чтобы напечатать одну копию картины «Проворный кролик». Вычисли, сколько минут потребуется для печати 10 копий. Напечатай на экране результат, а также тип данных с помощью метода `type()`."
      ]
    },
    {
      "cell_type": "code",
      "metadata": {
        "id": "jJmD3GpYvpO1"
      },
      "source": [
        "# одна копия\n",
        "copy_time = 0.7\n",
        "\n",
        "# 10 копий\n",
        "ten_copy_time = ...\n",
        "\n",
        "# напечатай результат\n",
        "...\n",
        "\n",
        "# напечатай тип данных\n",
        "..."
      ],
      "execution_count": null,
      "outputs": []
    },
    {
      "cell_type": "markdown",
      "metadata": {
        "id": "hW5qsYHXV2x0"
      },
      "source": [
        "<h3><strong><font color=\"#809BFF\">Задача №2</font></strong></h3>\n",
        "\n",
        "Сеть музеев планирует выставить 15 самых дорогих картин Пабло Пикассо в 3-х музеях одновременно. Вычисли, сколько работ достанется каждому из музеев, если количество картин нужно распределить поровну. Напечатай на экране результат, а также тип данных с помощью метода `type()`."
      ]
    },
    {
      "cell_type": "code",
      "metadata": {
        "id": "0Ag9-mxFV8Wu"
      },
      "source": [
        "# общее кол-во\n",
        "total_amount = 15\n",
        "\n",
        "# для одного музея\n",
        "one_museum = ...\n",
        "\n",
        "# напечатай результат\n",
        "...\n",
        "\n",
        "# напечатай тип данных\n",
        "..."
      ],
      "execution_count": null,
      "outputs": []
    },
    {
      "cell_type": "markdown",
      "metadata": {
        "id": "DTFQ_ZYWtN0c"
      },
      "source": [
        "<p><img src=\"https://u.foxford.ngcdn.ru/uploads/inner_file/file/94900/shadow3.png\"></p>"
      ]
    },
    {
      "cell_type": "markdown",
      "metadata": {
        "id": "H3wT0wLZ_s1F"
      },
      "source": [
        "<h3><strong><font color=\"#809BFF\">Задача №3</font></strong></h3>\n",
        "\n",
        "Преобразуй значение в переменной <code>warhol_lifetime</code> в дробное число, а значение в переменной <code>warhol_share</code> в целое. Напечатай результат на экране."
      ]
    },
    {
      "cell_type": "code",
      "metadata": {
        "id": "b1kXdOJj-JQG"
      },
      "source": [
        "# преобразуй типы данных\n",
        "\n",
        "warhol_lifetime = 58\n",
        "warhol_share = 0.18518518518518517\n",
        "\n",
        "print(...)\n",
        "print(...)"
      ],
      "execution_count": null,
      "outputs": []
    },
    {
      "cell_type": "markdown",
      "metadata": {
        "id": "IKYx9DC035xi"
      },
      "source": [
        "<h1><strong><font color=\"#FF732B\">Форматирование с f-Strings</font></strong></h1>"
      ]
    },
    {
      "cell_type": "markdown",
      "metadata": {
        "id": "f65p4v1OqqRt"
      },
      "source": [
        "<p><img src=\"https://u.foxford.ngcdn.ru/uploads/inner_file/file/94866/args.png\"></p>"
      ]
    },
    {
      "cell_type": "markdown",
      "metadata": {
        "id": "pLlbYrl4CWKS"
      },
      "source": [
        "<h3><strong><font color=\"#809BFF\">Задача №4</font></strong></h3>\n",
        "\n",
        "Мы узнали информацию о количестве всех созданных картин каждым из художников. Напечатай результат на экране для каждого из них с подписью."
      ]
    },
    {
      "cell_type": "code",
      "metadata": {
        "id": "fQKe58hgCd_v"
      },
      "source": [
        "# напечатай значения\n",
        "\n",
        "picasso_total_amount = 13500\n",
        "van_gogh_total_amount = 900\n",
        "warhol_total_amount = 900\n",
        "\n",
        "print('Общее количество картин ...:', ...) \n",
        "print('Общее количество картин ...:', ...) \n",
        "print('Общее количество картин ...:', ...)"
      ],
      "execution_count": null,
      "outputs": []
    },
    {
      "cell_type": "markdown",
      "metadata": {
        "id": "auys5sAeta5M"
      },
      "source": [
        "<p><img src=\"https://u.foxford.ngcdn.ru/uploads/inner_file/file/94901/shadow4.png\"></p>"
      ]
    },
    {
      "cell_type": "markdown",
      "metadata": {
        "id": "Pef7us8g0PhV"
      },
      "source": [
        "<h3><strong><font color=\"#809BFF\">Задача №5</font></strong></h3>\n",
        "\n",
        "Используя форматирование f-strings, напечатай на экране продолжительность жизни каждого художника."
      ]
    },
    {
      "cell_type": "code",
      "metadata": {
        "id": "UsK4SsCAAuXY"
      },
      "source": [
        "# напечатай значения\n",
        "\n",
        "picasso_lifetime = 91\n",
        "van_gogh_lifetime = 37\n",
        "warhol_lifetime = 58\n",
        "\n",
        "print('Продолжительность жизни Пабло Пикассо: ... год')\n",
        "print('Продолжительность жизни Винсента Ван Гога: ... лет')\n",
        "print('Продолжительность жизни Энди Уорхола: ... год')"
      ],
      "execution_count": null,
      "outputs": []
    },
    {
      "cell_type": "markdown",
      "metadata": {
        "id": "J7XmE7tPwoo9"
      },
      "source": [
        "<p><img src=\"https://u.foxford.ngcdn.ru/uploads/inner_file/file/94867/fstr2.png\"></p>"
      ]
    },
    {
      "cell_type": "markdown",
      "metadata": {
        "id": "D8U3FVv2ykl4"
      },
      "source": [
        "<h3><strong><font color=\"#809BFF\">Задача №6</font></strong></h3>\n",
        "\n",
        "Вычисли медианную стоимость картин Энди Уорхола и напечатай результат на экране. Перед суммой поставьте знак `$`, а также задай 2 фиксированных знака после точки."
      ]
    },
    {
      "cell_type": "code",
      "metadata": {
        "id": "rHOT8Z5nCNFu"
      },
      "source": [
        "warhol_median = ...\n",
        "print('Медианная стоимость картин Энд...')"
      ],
      "execution_count": null,
      "outputs": []
    },
    {
      "cell_type": "markdown",
      "metadata": {
        "id": "sGlnFAAszBY6"
      },
      "source": [
        "<p><img src=\"https://u.foxford.ngcdn.ru/uploads/inner_file/file/94869/share.png\"></p>"
      ]
    },
    {
      "cell_type": "markdown",
      "metadata": {
        "id": "U8i0TnCdz5GI"
      },
      "source": [
        "<h3><strong><font color=\"#809BFF\">Задача №7</font></strong></h3>\n",
        "\n",
        "Вычисли, какую долю картин Пабло Пикассо продал аукционный дом Sotheby's. Напечатай результат со знаком `%` и без знаков после точки."
      ]
    },
    {
      "cell_type": "code",
      "metadata": {
        "id": "tsivhl_GDvst"
      },
      "source": [
        "picasso_sothebys_share = ...\n",
        "print(\"Доля картин Пикассо, проданных аукционным домом Sotheby's:\")"
      ],
      "execution_count": null,
      "outputs": []
    },
    {
      "cell_type": "markdown",
      "metadata": {
        "id": "pW-5Hvy7ulv7"
      },
      "source": [
        "<h1><strong><font color=\"#FF732B\">Завершаем отчет</font></strong></h1>"
      ]
    },
    {
      "cell_type": "markdown",
      "metadata": {
        "id": "dH-5EatdAZR8"
      },
      "source": [
        "<p><img src=\"https://u.foxford.ngcdn.ru/uploads/inner_file/file/93512/18repo.png\"></p>"
      ]
    },
    {
      "cell_type": "markdown",
      "metadata": {
        "id": "udLaNXYT1nd4"
      },
      "source": [
        "<h3><strong><font color=\"#809BFF\">Задача №8</font></strong></h3>\n",
        "\n",
        "В ячейку ниже продублированы результаты предыдущих вычислений. У тебя есть все данные, кроме *коэффициента пропорциональности* в отношении `Количество созданных картин : Количество картин в топ-100`. \n",
        "\n",
        "Коэффициент пропорциональности (в англ. языке «constant of proportionality») — это значение, которое показывает, сколько единиц одной величины приходится на единицу другой. Коэффициентом должно быть целое число, поэтому тебе пригодятся встроенные функции для преобразования данных. \n",
        "\n",
        "Не переживай, если не сможешь вывести корректный результат с первого раза. Разбей задачу на 4 подзадачи (в соответствии с количеством строк вывода) и исправляй код до тех пор, пока он не станет удовлетворять шаблону."
      ]
    },
    {
      "cell_type": "code",
      "metadata": {
        "id": "y2ZoTFkFz-DY"
      },
      "source": [
        "# продолжительность жизни\n",
        "picasso_lifetime = 91 \n",
        "van_gogh_lifetime = 37\n",
        "warhol_lifetime = 58\n",
        "\n",
        "# стоимость 5-ти самых дорогих картин\n",
        "picasso_top_5_price = 750.1999999999999\n",
        "van_gogh_top_5_price = 569.0\n",
        "warhol_top_5_price = 442.1\n",
        "\n",
        "# разница между самой поздней и самой ранней картиной\n",
        "picasso_creation_range = 1955 - 1901\n",
        "van_gogh_creation_range = 1890 - 1888\n",
        "warhol_creation_range = 1966 - 1962\n",
        "\n",
        "# кол-во картин в списке «100 самых дорогих»\n",
        "picasso_top_100_amount = 15\n",
        "van_gogh_top_100_amount = 7\n",
        "warhol_top_100_amount = 5\n",
        "\n",
        "# кол-во картин в списке «100 самых дорогих» всех 3-х художников\n",
        "total_top_100_amount = 27\n",
        "\n",
        "# кол-во созданных картин\n",
        "picasso_total_amount = 13500\n",
        "van_gogh_total_amount = 900\n",
        "warhol_total_amount = 900\n",
        "\n",
        "# доля среди 3-х самых популярных художников\n",
        "picasso_share = (picasso_top_100_amount / total_top_100_amount)\n",
        "van_gogh_share = (van_gogh_top_100_amount / total_top_100_amount)\n",
        "warhol_share = (warhol_top_100_amount / total_top_100_amount)\n",
        "\n",
        "# коэффициент пропорциональности\n",
        "picasso_constant = ...\n",
        "van_gogh_constant = ...\n",
        "warhol_constant = ..."
      ],
      "execution_count": null,
      "outputs": []
    },
    {
      "cell_type": "code",
      "metadata": {
        "id": "0X5fGoZcytGX"
      },
      "source": [
        "# печать отчета\n",
        "print(...)"
      ],
      "execution_count": null,
      "outputs": []
    },
    {
      "cell_type": "markdown",
      "metadata": {
        "id": "rmjSlJC4wwJT"
      },
      "source": [
        "<h1><strong><font color=\"#FF732B\">Интерпретируем результат</font></strong></h1>"
      ]
    },
    {
      "cell_type": "markdown",
      "metadata": {
        "id": "GY1_c-MFw_ve"
      },
      "source": [
        "<p><img src=\"https://u.foxford.ngcdn.ru/uploads/inner_file/file/93516/19repo.png\"></p>"
      ]
    },
    {
      "cell_type": "markdown",
      "metadata": {
        "id": "awyUQnkst5Ua"
      },
      "source": [
        "<h1><strong><font color=\"#FF732B\">Расширяем набор данных!</font></strong></h1>"
      ]
    },
    {
      "cell_type": "markdown",
      "metadata": {
        "id": "JNH7zm4N0Hip"
      },
      "source": [
        "| Стоимость, млн $ | Название | Художник | Год продажи | Аукционный дом |\n",
        "--- | --- | --- | --- | ---\n",
        "| 478.1 | Спаситель мира | Леонардо да Винчи 🇮🇹 | 2017 | Christie’s |\n",
        "| 194.5 | Алжирские женщины («Версия O») | Пабло Пикассо 🇪🇸 | 2015 | Christie’s |\n",
        "| 184.8 | Обнаженная, лежащая на левом боку | Амедео Модильяни 🇮🇹 | 2015 | Christie’s |\n",
        "| 163.0 | Лежащая обнажённая | Амедео Модильяни 🇮🇹 | 2018 | Sotheby’s |\n",
        "| 149.6 | Двенадцать ландшафтных сцен | Ци Байши 🇨🇳 | 2017 | Другой |\n",
        "| 141.9 | Три наброска к портрету Люсьена Фрейда | Фрэнсис Бэкон 🇬🇧 | 2013 | Christie’s |\n",
        "| 121.3 | Крик, 1895 | Эдвард Мунк 🇳🇴 | 2012 | Sotheby’s |\n",
        "| 119.2 | Молодая девушка с цветочной корзиной | Пабло Пикассо 🇪🇸 | 2018 | Christie’s |\n",
        "| 117.3 | Без названия (1982) | Жан-Мишель Баския 🇺🇸 | 2017 | Sotheby’s |\n",
        "| 112.7 | Стога сена | Клод Моне 🇫🇷 | 2019 | Sotheby’s |\n",
        "| 109.7 | Дора Маар с кошкой | Пабло Пикассо 🇪🇸 | 2006 | Sotheby’s |\n",
        "| 107.7 | Обнажённая, зелёные листья и бюст | Пабло Пикассо 🇪🇸 | 2010 | Christie’s |\n",
        "| 105.0 | Авария серебряной машины (Двойная катастрофа) | Энди Уорхол 🇺🇸 | 2013 | Sotheby’s |\n",
        "| 103.4 | Медсестра | Рой Лихтенштейн 🇺🇸 | 2015 | Christie’s |\n",
        "| 101.3 | Портрет Адели Блох-Бауэр II | Густав Климт 🇦🇹 | 2006 | Christie’s |\n",
        "| 95.2 | Чоп суэй | Эдвард Хоппер 🇺🇸 | 2018 | Christie’s |\n",
        "| 93.1 | Триптих, 1976 | Фрэнсис Бэкон 🇬🇧 | 2008 | Sotheby’s |\n",
        "| 90.4 | Буффало 2 | Роберт Раушенберг 🇺🇸 | 2019 | Christie’s |\n",
        "| 89.9 | Авария зелёной машины | Энди Уорхол 🇺🇸 | 2007 | Christie’s |\n",
        "| 88.3 | Стог сена | Клод Моне 🇫🇷 | 2016 | Christie’s |\n",
        "| 87.8 | Оранжевый, красный, жёлтый | Марк Ротко 🇺🇸 | 2012 | Christie’s |\n",
        "| 81.6 | Белый центр (жёлтое, розовое и лиловое на розовом) | Марк Ротко 🇺🇸 | 2007 | Sotheby’s |\n",
        "| 81.3 | Черный огонь I | Барнетт Ньюмен 🇺🇸 | 2014 | Christie’s |\n",
        "| 79.2 | Тройной Элвис | Энди Уорхол 🇺🇸 | 2014 | Christie’s |\n",
        "| 78.1 | Три наброска к портрету Джона Эдвардса | Фрэнсис Бэкон 🇬🇧 | 2014 | Christie’s |\n",
        "| 75.9 | № 1 (Королевский красный и голубой) | Марк Ротко 🇺🇸 | 2012 | Sotheby’s |\n",
        "| 71.9 | Без названия XXV | Виллем де Кунинг 🇺🇸 | 2016 | Christie’s |\n",
        "| 69.7 | Обнажённая, сидящая на диване | Амедео Модильяни 🇮🇹 | 2010 | Sotheby’s |\n",
        "| 68.5 | Сидящая женщина | Пабло Пикассо 🇪🇸 | 2016 | Sotheby’s |\n",
        "| 64.8 | Орел на сосне | Ци Байши 🇨🇳 | 2011 | Другой |\n",
        "| 64.7 | Супрематическая композиция | Казимир Малевич 🇷🇺 | 2008 | Sotheby’s |\n",
        "| 64.0 | Мужчины в ее жизни | Энди Уорхол 🇺🇸 | 2010 | Другой |\n",
        "| 62.3 | 1949-A-No.1 | Клиффорд Стилл 🇺🇸 | 2011 | Sotheby’s |\n",
        "| 61.8 | Пруд с водяными лилиями | Клод Моне 🇫🇷 | 2008 | Christie’s |\n",
        "| 61.3 | Чжи Чуань поднимается в гору | Ван Мэн 🇨🇳 | 2011 | Другой |\n",
        "| 60.4 | Кувшин и фрукты | Поль Сезанн 🇫🇷 | 2019 | Christie’s |\n",
        "| 58.1 | Номер 19, 1948 | Джексон Поллок 🇺🇸 | 2013 | Christie’s |\n",
        "| 52.7 | Набросок к портрету папы Иннокентия X | Фрэнсис Бэкон 🇬🇧 | 2007 | Sotheby’s |\n",
        "| 47.3 | 200 однодолларовых купюр | Энди Уорхол 🇺🇸 | 2009 | Sotheby’s |\n",
        "| 46.5 | Мужчина с топором | Поль Гоген 🇫🇷 | 2006 | Christie’s |\n",
        "| 45.2 | Часы с кукушкой и ковер в синих и красных тонах | Анри Матисс 🇫🇷 | 2009 | Christie’s |\n",
        "| 44.2 | Голова музы | Рафаэль 🇮🇹 | 2009 | Christie’s |\n",
        "| 34.3 | Венеция: Гранд канал, вид с северо-востока от Палаццо Балби на мост Риальто | Каналетто 🇮🇹 | 2005 | Sotheby’s |\n",
        "| 25.8 | Прачка | Анри де Тулуз-Лотрек 🇫🇷 | 2005 | Christie’s |\n",
        "| 25.8 | Дань уважения Матиссу | Марк Ротко 🇺🇸 | 2005 | Christie’s |\n",
        "| | | | | |\n",
        "| | | | | *Таблица 2.0* |"
      ]
    },
    {
      "cell_type": "markdown",
      "metadata": {
        "id": "-fy0aNCxt0nD"
      },
      "source": [
        "<h1><strong><font color=\"#FF732B\">Строковый тип</font></strong></h1>"
      ]
    },
    {
      "cell_type": "markdown",
      "metadata": {
        "id": "n5jevIaC7WiG"
      },
      "source": [
        "<p><img src=\"https://u.foxford.ngcdn.ru/uploads/inner_file/file/94870/str.png\"></p>"
      ]
    },
    {
      "cell_type": "markdown",
      "metadata": {
        "id": "Pgj5DVrE7XoU"
      },
      "source": [
        "<h3><strong><font color=\"#809BFF\">Задача №9</font></strong></h3>\n",
        "\n",
        "Сохрани имя единственного русского художника из Таблицы 2.0, название его картины, а так же стоимость в виде сторокового типа данных. Напечатай на экране результат, а так же тип данных одной из переменных, используя f-strings."
      ]
    },
    {
      "cell_type": "code",
      "metadata": {
        "id": "LBYWkeyR7fFU"
      },
      "source": [
        "# подставь значения вместо многоточий\n",
        "rus_artist = ...\n",
        "rus_painting_title = ...\n",
        "rus_painting_price = ...\n",
        "\n",
        "# напечатай результат и тип данных\n",
        "print('Стоимость картины «...» — $... Автор — ...')\n",
        "..."
      ],
      "execution_count": null,
      "outputs": []
    },
    {
      "cell_type": "markdown",
      "metadata": {
        "id": "Dcnvt6hf7nnV"
      },
      "source": [
        "<h1><strong><font color=\"#FF732B\">Экранирование символов</font></strong></h1>"
      ]
    },
    {
      "cell_type": "markdown",
      "metadata": {
        "id": "FVK8Oqku7rNj"
      },
      "source": [
        "<p><img src=\"https://u.foxford.ngcdn.ru/uploads/inner_file/file/94871/quote.png\"></p>"
      ]
    },
    {
      "cell_type": "markdown",
      "metadata": {
        "id": "8DzIuFOy7uVy"
      },
      "source": [
        "<h3><strong><font color=\"#809BFF\">Задача №10</font></strong></h3>\n",
        "\n",
        "Сохрани в переменной `auction_house_1` название аукционного дома, который продал картину «Спаситель мира», используя экранирование. Напечатай результат с помощью f-strings."
      ]
    },
    {
      "cell_type": "code",
      "metadata": {
        "id": "8SDY_6MT7xS_"
      },
      "source": [
        "auction_house_1 = ...\n",
        "\n",
        "print('Аукционный дом ... продал самую дорогую картину — «Спаситель мира».')"
      ],
      "execution_count": null,
      "outputs": []
    },
    {
      "cell_type": "markdown",
      "metadata": {
        "id": "oL1yr2tq7zU7"
      },
      "source": [
        "<p><img src=\"https://u.foxford.ngcdn.ru/uploads/inner_file/file/94875/printdefault.png\"></p>"
      ]
    },
    {
      "cell_type": "markdown",
      "metadata": {
        "id": "jmxRxB9k76L6"
      },
      "source": [
        "<h3><strong><font color=\"#809BFF\">Задача №11</font></strong></h3>\n",
        "\n",
        "Напечатай результат на одной строке, передав аргументу `end` пустую строку `' '`."
      ]
    },
    {
      "cell_type": "code",
      "metadata": {
        "id": "BoZ6Ee9379pE"
      },
      "source": [
        "# добавь именованый аргумент end с пустой строкой\n",
        "print('Сбросим символ переноса строки \\\\n и', ...)\n",
        "\n",
        "print('напечатаем результат на одной строке!')"
      ],
      "execution_count": null,
      "outputs": []
    },
    {
      "cell_type": "markdown",
      "metadata": {
        "id": "pXUu7g3f8Bb9"
      },
      "source": [
        "<h3><strong><font color=\"#809BFF\">Задача №12</font></strong></h3>\n",
        "\n",
        "Догадайся, в каком месте можно поставить символ переноса строки `\\n`, чтобы разделить вывод ниже, и напечатай результат."
      ]
    },
    {
      "cell_type": "code",
      "metadata": {
        "id": "m34GxYtH8EBF"
      },
      "source": [
        "print('Строка ниже — немедленно отодвинься от меня! И следующая — тоже!')\n",
        "print('Ок :-(')\n",
        "print('Ок :-(((')"
      ],
      "execution_count": null,
      "outputs": []
    },
    {
      "cell_type": "markdown",
      "metadata": {
        "id": "i7KImah_EBVy"
      },
      "source": [
        "<h1><strong><font color=\"#FC4262\">Домашняя работа</font></strong></h1>"
      ]
    },
    {
      "cell_type": "markdown",
      "metadata": {
        "id": "BdNn502i2vTz"
      },
      "source": [
        "Вот несколько шагов, чтобы настроить удобную работу над домашними задачами:\n",
        "\n",
        "1. В сервисе [Google Drive](https://www.google.com/intl/ru/drive/) создай папку `foxford_ds_study` (если еще этого не сделал), в которой ты будешь хранить все учебные материалы с этого курса.\n",
        "2. Сохрани копию этой тетрадки `Лекция №2.ipynb` *(File → Save a copy in Drive)* в папку `foxford_ds_study`.\n",
        "\n",
        "Зачем это нужно? \n",
        "\n",
        "Файл, в котором работает преподаватель — это «оригинальный» файл и мы не можем работать в нем все вместе, ведь у каждого свой код! Каждому ученику необходимо сделать свою копию файла и выполнять домашку именно в ней. Если хочешь, ты можешь назвать свой файл по имени, например, `Лекция №2 Иван Кнопочкин.ipynb`.\n",
        "\n",
        "В начале следующей лекции мы обсудим эти задачи вместе."
      ]
    },
    {
      "cell_type": "markdown",
      "metadata": {
        "id": "34kQNkgHEDsw"
      },
      "source": [
        "<h3><strong><font color=\"#809BFF\">Задача №13</font></strong></h3>\n",
        "\n",
        "Вычисли, какую долю картин Винсента Ван Гога продал аукционный дом Christie's (Таблица 1.0). Напечатай результат со знаком `%` и без знаков после точки."
      ]
    },
    {
      "cell_type": "code",
      "metadata": {
        "id": "1rvkwu2HEHkG"
      },
      "source": [
        "van_gogh_christies_share = ..."
      ],
      "execution_count": null,
      "outputs": []
    },
    {
      "cell_type": "markdown",
      "metadata": {
        "id": "dFSSaKqIS8-R"
      },
      "source": [
        "<div>\n",
        "  <details>\n",
        "\t  <summary>Подсказка 1/1</summary>\n",
        "    <p>Чтобы найти долю — то есть часть от целого — надо меньшее значение разделить на большее. Посчитайте сколько картин продал Christie's и разделите их на количество всех картин Винсента Ван Гога в Таблице 1.0</p>\n",
        "  </details>\n",
        "</div>\n",
        "\n",
        "<div>\n",
        "  <details>\n",
        "\t  <summary>Результат</summary>\n",
        "    <p>Доля картин Винсента Ван Гога, проданных аукционным домом Christie's: 57%</p>\n",
        "  </details>\n",
        "</div>"
      ]
    },
    {
      "cell_type": "markdown",
      "metadata": {
        "id": "qFPxh3GETc_d"
      },
      "source": [
        "<h3><strong><font color=\"#809BFF\">Задача №14</font></strong></h3>\n",
        "\n",
        "Вычисли, какую долю картин Энди Уорхола продали все остальные аукционные дома (Таблица 1.0). Напечатай результат со знаком `%` и без знаков после точки."
      ]
    },
    {
      "cell_type": "code",
      "metadata": {
        "id": "noI5ayGZTkNX"
      },
      "source": [
        "warhol_others_share = ..."
      ],
      "execution_count": null,
      "outputs": []
    },
    {
      "cell_type": "markdown",
      "metadata": {
        "id": "scgD_umFTsXt"
      },
      "source": [
        "<div>\n",
        "  <details>\n",
        "\t  <summary>Подсказка 1/1</summary>\n",
        "    <p>Чтобы найти долю — то есть часть от целого — надо меньшее значение разделить на большее.</p>\n",
        "  </details>\n",
        "</div>\n",
        "\n",
        "<div>\n",
        "  <details>\n",
        "\t  <summary>Результат</summary>\n",
        "    <p>Доля картин Энди Уорхола, проданных всеми остальными аукционными домами: 20%</p>\n",
        "  </details>\n",
        "</div>"
      ]
    },
    {
      "cell_type": "markdown",
      "metadata": {
        "id": "TwK9a-LxPjJ4"
      },
      "source": [
        "<h3><strong><font color=\"#809BFF\">Задача №15</font></strong></h3>\n",
        "\n",
        "Сохрани количество картин, которые были проданы «всеми остальными» аукционными домами (Таблица 2.0), в виде строкового типа данных. Напечатай на экране результат, а так же тип данных, используя f-strings."
      ]
    },
    {
      "cell_type": "code",
      "metadata": {
        "id": "gaUcaocXPn3g"
      },
      "source": [
        "# подставь значение вместо многоточия\n",
        "other_auction_houses = ...\n",
        "\n",
        "# напечатай результат\n",
        "print('Количество картин, проданных «всеми остальными» аукционными домами: ...')\n",
        "\n",
        "# напечатай тип данных\n",
        "..."
      ],
      "execution_count": null,
      "outputs": []
    },
    {
      "cell_type": "markdown",
      "metadata": {
        "id": "8AqrvZJ9STTl"
      },
      "source": [
        "<div>\n",
        "  <details>\n",
        "\t  <summary>Подсказка 1/1</summary>\n",
        "    <p>Выполните инструкции в <code># комментариях</code> и выполните код с помощью <code>Command/Ctrl</code> + <code>Enter</code> или кнопки Play.</p>\n",
        "  </details>\n",
        "</div>\n",
        "\n",
        "<div>\n",
        "  <details>\n",
        "\t  <summary>Результат</summary>\n",
        "    <p>\n",
        "      Количество картин, проданных «всеми остальными» аукционными домами: 4</br>\n",
        "      class 'str'\n",
        "    </p>\n",
        "  </details>\n",
        "</div>"
      ]
    },
    {
      "cell_type": "markdown",
      "metadata": {
        "id": "JQq5-ghpSQHD"
      },
      "source": [
        "<h3><strong><font color=\"#809BFF\">Задача №16</font></strong></h3>\n",
        "\n",
        "Сохрани в переменной `auction_house_2` название аукционного дома, который продал самую дорогую картину Жана-Мишеля Баския, используя экранирование. Напечатай результат с помощью f-strings."
      ]
    },
    {
      "cell_type": "code",
      "metadata": {
        "id": "zWXwwSt7SRSy"
      },
      "source": [
        "auction_house_2 = ...\n",
        "\n",
        "print('Аукционный дом ... продал самую дорогую картину Жана-Мишеля Баския.')"
      ],
      "execution_count": null,
      "outputs": []
    },
    {
      "cell_type": "markdown",
      "metadata": {
        "id": "bC7NP47wTMnl"
      },
      "source": [
        "<div>\n",
        "  <details>\n",
        "\t  <summary>Подсказка 1/1</summary>\n",
        "    <p>Обратный слэш — ставится сразу перед тем символом, который надо вывести: <code>'Sotheby\\'s'</code>.</p>\n",
        "  </details>\n",
        "</div>\n",
        "\n",
        "<div>\n",
        "  <details>\n",
        "\t  <summary>Результат</summary>\n",
        "    <p>Аукционный дом Sotheby's продал самую дорогую картину Жана-Мишеля Баския.</p>\n",
        "  </details>\n",
        "</div>"
      ]
    },
    {
      "cell_type": "markdown",
      "metadata": {
        "id": "4YsMUW-ITQcb"
      },
      "source": [
        "<h3><strong><font color=\"#809BFF\">Задача №17</font></strong></h3>\n",
        "\n",
        "Сохрани в переменной `christies_london_address` адрес лондонского филиала Сhristie's: 8 King Street, St. James's London. Используй экранирование. Напечатай результат с помощью f-strings."
      ]
    },
    {
      "cell_type": "code",
      "metadata": {
        "id": "QWQBHUtJTY-i"
      },
      "source": [
        "christies_london_address = ...\n",
        "\n",
        "print('Адрес лондонского филиала Christie's: ...')"
      ],
      "execution_count": null,
      "outputs": []
    },
    {
      "cell_type": "markdown",
      "metadata": {
        "id": "vcfsIe5kTeuW"
      },
      "source": [
        "<div>\n",
        "  <details>\n",
        "\t  <summary>Подсказка 1/1</summary>\n",
        "    <p>Обратный слэш — ставится сразу перед тем символом, который надо вывести: <code>'Sotheby\\'s'</code>.</p>\n",
        "  </details>\n",
        "</div>\n",
        "\n",
        "<div>\n",
        "  <details>\n",
        "\t  <summary>Результат</summary>\n",
        "    <p>Адрес лондонского филиала Christie's: 8 King Street, St. James's London</p>\n",
        "  </details>\n",
        "</div>"
      ]
    }
  ]
}