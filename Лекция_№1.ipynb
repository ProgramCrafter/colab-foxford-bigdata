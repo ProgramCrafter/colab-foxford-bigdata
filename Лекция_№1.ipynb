{
 "cells": [
  {
   "cell_type": "markdown",
   "metadata": {
    "colab_type": "text",
    "id": "view-in-github"
   },
   "source": [
    "<a href=\"https://colab.research.google.com/github/ProgramCrafter/colab-foxford-bigdata/blob/master/%D0%9B%D0%B5%D0%BA%D1%86%D0%B8%D1%8F_%E2%84%961.ipynb\" target=\"_parent\"><img src=\"https://colab.research.google.com/assets/colab-badge.svg\" alt=\"Open In Colab\"/></a>"
   ]
  },
  {
   "cell_type": "markdown",
   "metadata": {
    "id": "goKCGXSUoln1"
   },
   "source": [
    "<p><img src=\"https://u.foxford.ngcdn.ru/uploads/inner_file/file/98155/upd1.jpg\"></p>"
   ]
  },
  {
   "cell_type": "markdown",
   "metadata": {
    "id": "fTAUCMGRqM75"
   },
   "source": [
    "___\n",
    "\n",
    "<font color=\"#000000\">Основы Python и глубокого обучения</font>\n",
    "<font color=\"#AEBAC5\"> → </font>\n",
    "<font color=\"#AEBAC5\">Компьютерное зрение (CV)</font>\n",
    "<font color=\"#AEBAC5\"> → </font>\n",
    "<font color=\"#AEBAC5\">Обработка естественного языка (NLP)</font>\n",
    "\n",
    "___"
   ]
  },
  {
   "cell_type": "markdown",
   "metadata": {
    "id": "cZHtFxVrb4iy"
   },
   "source": [
    "<h1><strong><font color=\"#FF732B\">Кто такие эти ваши ноутбуки?</font></strong></h1>"
   ]
  },
  {
   "cell_type": "markdown",
   "metadata": {
    "id": "W3AuG5bGomY1"
   },
   "source": [
    "<h3><strong><font color=\"#809BFF\">Задача №1</font></strong></h3>\n",
    "\n",
    "Ниже расположен код на языке Python, который отвечает за вывод информации на экран. Перейди в эту ячейку и нажми `Command/Ctrl` + `Enter` на клавиатуре или кликни на кнопку Play слева от строчки кода (самый первый вызов — не моментальный и требует 3-4 секунды, это нормально)."
   ]
  },
  {
   "cell_type": "code",
   "execution_count": 1,
   "metadata": {
    "colab": {
     "base_uri": "https://localhost:8080/"
    },
    "id": "jJmD3GpYvpO1",
    "outputId": "3073d70a-0d87-40ef-9a91-b977cfe8c470"
   },
   "outputs": [
    {
     "name": "stdout",
     "output_type": "stream",
     "text": [
      "Отлично! Не так уж и сложно.\n"
     ]
    }
   ],
   "source": [
    "# выполни код в ячейке\n",
    "print('Отлично! Не так уж и сложно.')"
   ]
  },
  {
   "cell_type": "markdown",
   "metadata": {
    "id": "xo1BVeJBPuRv"
   },
   "source": [
    "<p><img src=\"https://u.foxford.ngcdn.ru/uploads/inner_file/file/98336/upd5.png\"></p>"
   ]
  },
  {
   "cell_type": "markdown",
   "metadata": {
    "id": "CVxl0W3SrdyI"
   },
   "source": [
    "<h1><strong><font color=\"#FF732B\">Знакомимся с первыми данными</font></strong></h1>"
   ]
  },
  {
   "cell_type": "markdown",
   "metadata": {
    "id": "y3c48KCq8yQV"
   },
   "source": [
    "<p><img src=\"https://u.foxford.ngcdn.ru/uploads/inner_file/file/92609/3art.png\"></p>"
   ]
  },
  {
   "cell_type": "markdown",
   "metadata": {
    "id": "I-sGbafF2Rr2"
   },
   "source": [
    "| Стоимость, млн $ | Название | Художник | Год создания | Аукционный дом |\n",
    "--- | --- | --- | --- | ---\n",
    "| 193.5 | Алжирские женщины («Версия O») | Пабло Пикассо 🇪🇸 | 1955 | Christie's |\n",
    "| 170.1 | Сон | Пабло Пикассо 🇪🇸 | 1932 | Другой |\n",
    "| 161.4 | Портрет доктора Гаше | Винсент Ван Гог 🇳🇱 | 1890 | Christie's |\n",
    "| 141 | Мальчик с трубкой | Пабло Пикассо 🇪🇸 | 1905 | Sotheby's |\n",
    "| 124.8 | Обнажённая, зелёные листья и бюст | Пабло Пикассо 🇪🇸 | 1932 | Christie's |\n",
    "| 121.3 | Ирисы | Винсент Ван Гог 🇳🇱 | 1889 | Sotheby's |\n",
    "| 120.8 | Дора Маар с кошкой | Пабло Пикассо 🇪🇸 | 1941 | Sotheby's |\n",
    "| 117.1 | Молодая девушка с цветочной корзиной | Пабло Пикассо 🇪🇸 | 1905 | Christie's |\n",
    "| 115.7 | Авария серебряной машины (Двойная катастрофа) | Энди Уорхол 🇺🇸 | 1963 | Sotheby's |\n",
    "| 112.2 | Автопортрет без бороды | Винсент Ван Гог 🇳🇱 | 1889 | Christie's |\n",
    "| 101.7 | Свадьба Пьеретты | Пабло Пикассо 🇪🇸 | 1905 | Другой |\n",
    "| 98.7 | Я, Пикассо | Пабло Пикассо 🇪🇸 | 1901 | Sotheby's |\n",
    "| 89.3 | Подсолнухи | Винсент Ван Гог 🇳🇱 | 1889 | Christie's |\n",
    "| 88.5 | Тройной Элвис | Энди Уорхол 🇺🇸 | 1963 | Christie's |\n",
    "| 88.4 | Авария зелёной машины | Энди Уорхол 🇺🇸 | 1963 | Christie's |\n",
    "| 84.8 | Огороженное поле с пахарем | Винсент Ван Гог 🇳🇱 | 1889 | Christie's |\n",
    "| 83.9 | Проворный кролик | Пабло Пикассо 🇪🇸 | 1904 | Sotheby's |\n",
    "| 83.3 | Акробат и молодой Арлекин | Пабло Пикассо 🇪🇸 | 1905 | Christie's |\n",
    "| 81.7 | Женщина со скрещёнными руками | Пабло Пикассо 🇪🇸 | 1902 | Christie's |\n",
    "| 76 | Женщина, сидящая в саду | Пабло Пикассо 🇪🇸 | 1938 | Sotheby's |\n",
    "| 75.7 | Молодая крестьянка в соломенной шляпке, сидящая в пшенице | Винсент Ван Гог 🇳🇱 | 1890 | Другой |\n",
    "| 75.2 | Четыре Марлона | Энди Уорхол 🇺🇸 | 1966 | Christie's |\n",
    "| 74.3 | Мужчины в ее жизни | Энди Уорхол 🇺🇸 | 1962 | Другой |\n",
    "| 72.8 | Певица кабаре | Пабло Пикассо 🇪🇸 | 1901 | Sotheby's |\n",
    "| 72.7 | Бюст женщины (Дора Маар) | Пабло Пикассо 🇪🇸 | 1938 | Christie's |\n",
    "| 71.5 | Аллея Алискана | Винсент Ван Гог 🇳🇱 | 1888 | Sotheby's |\n",
    "| 70.5 | Женщина в берете и клетчатом платье (Мария Тереза Вальтер) | Пабло Пикассо 🇪🇸 | 1937 | Sotheby's |\n",
    "| | | | | |\n",
    "| | | | | *Таблица 1.0* |"
   ]
  },
  {
   "cell_type": "markdown",
   "metadata": {
    "id": "oUZtX5NpuQmA"
   },
   "source": [
    "<p><img src=\"https://u.foxford.ngcdn.ru/uploads/inner_file/file/92612/4report.png\"></p>"
   ]
  },
  {
   "cell_type": "markdown",
   "metadata": {
    "id": "bXzVU6r431of"
   },
   "source": [
    "<h1><strong><font color=\"#FF732B\">Складываем, вычитаем, умножаем и делим</font></strong></h1>"
   ]
  },
  {
   "cell_type": "markdown",
   "metadata": {
    "id": "8ZXvGh8XUmP_"
   },
   "source": [
    "<p><img src=\"https://u.foxford.ngcdn.ru/uploads/inner_file/file/92616/5oper.png\"></p>"
   ]
  },
  {
   "cell_type": "markdown",
   "metadata": {
    "id": "H4W5Q_knGEzx"
   },
   "source": [
    "<h3><strong><font color=\"#809BFF\">Задача №2</font></strong></h3>\n",
    "\n",
    "Вычисли разницу в датах создания картин «Алжирские женщины» и «Обнажённая, зелёные листья и бюст» Пабло Пикассо. Подставь значения и выполни код."
   ]
  },
  {
   "cell_type": "code",
   "execution_count": 2,
   "metadata": {
    "colab": {
     "base_uri": "https://localhost:8080/"
    },
    "id": "a9c8e2E5GLlk",
    "outputId": "2aa723a5-1883-487f-df71-0b397ebfa7d7"
   },
   "outputs": [
    {
     "name": "stdout",
     "output_type": "stream",
     "text": [
      "23\n"
     ]
    }
   ],
   "source": [
    "# подставь значения вместо многоточий\n",
    "print(1955 - 1932)"
   ]
  },
  {
   "cell_type": "markdown",
   "metadata": {
    "id": "8y5gdA1vGTez"
   },
   "source": [
    "<h3><strong><font color=\"#809BFF\">Задача №3</font></strong></h3>\n",
    "\n",
    "Вычисли общую стоимость картин «Авария серебряной машины (Двойная катастрофа)», «Тройной Элвис» и «Мужчины в ее жизни» Энди Уорхола. Напиши выражение и выполни код."
   ]
  },
  {
   "cell_type": "code",
   "execution_count": 1,
   "metadata": {
    "id": "XPFYYyG_GaXc"
   },
   "outputs": [
    {
     "name": "stdout",
     "output_type": "stream",
     "text": [
      "278.5\n"
     ]
    }
   ],
   "source": [
    "# напиши выражение\n",
    "print(115.7 + 88.5 + 74.3)"
   ]
  },
  {
   "cell_type": "markdown",
   "metadata": {
    "id": "hW5qsYHXV2x0"
   },
   "source": [
    "<h3><strong><font color=\"#809BFF\">Задача №4</font></strong></h3>\n",
    "\n",
    "Вычисли, насколько 3 самые дорогие картины Пабло Пикассо дороже 3-х самых дорогих картин Винсента Ван Гога. Подставь значения и выполни код."
   ]
  },
  {
   "cell_type": "code",
   "execution_count": 2,
   "metadata": {
    "id": "0Ag9-mxFV8Wu"
   },
   "outputs": [
    {
     "name": "stdout",
     "output_type": "stream",
     "text": [
      "109.70000000000003\n"
     ]
    }
   ],
   "source": [
    "# напиши выражение\n",
    "\n",
    "print(193.5 + 170.1 - 161.4 + 141 - 121.3 - 112.2)"
   ]
  },
  {
   "cell_type": "markdown",
   "metadata": {
    "id": "HVPBI6BvHARH"
   },
   "source": [
    "<h3><strong><font color=\"#809BFF\">Задача №5</font></strong></h3>\n",
    "\n",
    "Вычисли, насколько 2 самые дорогие картины, проданные аукционным домом Christie's дороже 2-х самых дорогих картин, проданных Sotheby's. Напиши выражение и выполни код."
   ]
  },
  {
   "cell_type": "code",
   "execution_count": 3,
   "metadata": {
    "id": "BMbZ5mv6HGIB"
   },
   "outputs": [
    {
     "name": "stdout",
     "output_type": "stream",
     "text": [
      "92.59999999999998\n"
     ]
    }
   ],
   "source": [
    "print(193.5 + 161.4 - 141 - 121.3)"
   ]
  },
  {
   "cell_type": "markdown",
   "metadata": {
    "id": "H3wT0wLZ_s1F"
   },
   "source": [
    "<h3><strong><font color=\"#809BFF\">Задача №6</font></strong></h3>\n",
    "\n",
    "Вычисли, насколько доля картин Винсента Ван Гога и Энди Уорхола, проданных аукционными домами Christie's и Sotheby's, меньше доли картин всех остальных художников в топ-100, проданных всеми аукционными домами. Будь внимателен, беря отдельные выражения в скобки. Напечатай результат на экране."
   ]
  },
  {
   "cell_type": "code",
   "execution_count": 4,
   "metadata": {
    "id": "b1kXdOJj-JQG"
   },
   "outputs": [
    {
     "name": "stdout",
     "output_type": "stream",
     "text": [
      "0.2686399942173551\n"
     ]
    }
   ],
   "source": [
    "E = (193.5 + 170.1 + 161.4 + 141.0 + 124.8 + 121.3 +\n",
    "     120.8 + 117.1 + 115.7 + 112.2 + 101.7 + 98.7  +\n",
    "     89.3  + 88.5  + 88.4  + 84.8  + 83.9  + 83.3  +\n",
    "     81.7  + 76.0  + 75.7  + 75.2  + 74.3  + 72.8  +\n",
    "     72.7  + 71.5  + 70.5)\n",
    "\n",
    "print((E -\n",
    "       (161.4 + 121.3 + 115.7 + 112.2 + 89.3 +\n",
    "        88.5  + 88.4  + 84.8  + 75.7  + 75.2 + 74.3)) / E -\n",
    "      (161.4 + 121.3 + 115.7 + 112.2 + 89.3 +\n",
    "       88.5  + 88.4  + 84.8  + 75.2) / E)"
   ]
  },
  {
   "cell_type": "markdown",
   "metadata": {
    "id": "IKYx9DC035xi"
   },
   "source": [
    "<h1><strong><font color=\"#FF732B\">Сохраняем нужные значения</font></strong></h1>"
   ]
  },
  {
   "cell_type": "markdown",
   "metadata": {
    "id": "6E3NFPS1UczV"
   },
   "source": [
    "<p><img src=\"https://u.foxford.ngcdn.ru/uploads/inner_file/file/92618/6var.png\"></p>"
   ]
  },
  {
   "cell_type": "markdown",
   "metadata": {
    "id": "pLlbYrl4CWKS"
   },
   "source": [
    "<h3><strong><font color=\"#809BFF\">Задача №7</font></strong></h3>\n",
    "\n",
    "Узнай продолжительность жизни каждого художника и сохрани соответствующие значения в переменные. Напечатай результат для одного из художников."
   ]
  },
  {
   "cell_type": "code",
   "execution_count": 5,
   "metadata": {
    "id": "fQKe58hgCd_v"
   },
   "outputs": [
    {
     "name": "stdout",
     "output_type": "stream",
     "text": [
      "37\n"
     ]
    }
   ],
   "source": [
    "# подставь нужное значение вместо многоточия\n",
    "picasso_lifetime = 91\n",
    "\n",
    "# объяви переменную для Винсента Ван Гога и сохраните в нее значение\n",
    "van_gogh_lifetime = 37\n",
    "\n",
    "# переменная и значение для Энди Уорхола\n",
    "warhol_lifetime = 58\n",
    "\n",
    "# напечатай результат для Винсента Ван Гога\n",
    "print(van_gogh_lifetime)"
   ]
  },
  {
   "cell_type": "markdown",
   "metadata": {
    "id": "x7R_wNfNQOh9"
   },
   "source": [
    "<p><img src=\"https://u.foxford.ngcdn.ru/uploads/inner_file/file/92620/7repo.png\"></p>"
   ]
  },
  {
   "cell_type": "markdown",
   "metadata": {
    "id": "Pef7us8g0PhV"
   },
   "source": [
    "<h3><strong><font color=\"#809BFF\">Задача №8</font></strong></h3>\n",
    "\n",
    "Посчитай, сколько картин каждого художника находится в списке топ-100. Общее количество картин всех 3-х художников — также сохрани в отдельную переменную и напечатай это значение на экране."
   ]
  },
  {
   "cell_type": "code",
   "execution_count": 6,
   "metadata": {
    "id": "UsK4SsCAAuXY"
   },
   "outputs": [
    {
     "name": "stdout",
     "output_type": "stream",
     "text": [
      "27\n"
     ]
    }
   ],
   "source": [
    "# подставь нужное значение вместо троеточия\n",
    "picasso_top_100_amount = 15\n",
    "\n",
    "# объяви переменную для Винсента Ван Гога и сохрани в нее значение\n",
    "van_gogh_top_100_amount = 7\n",
    "\n",
    "# переменная и значение для Энди Уорхола\n",
    "warhol_top_100_amount = 5\n",
    "\n",
    "# общее количество картин\n",
    "total_top_100_amount = picasso_top_100_amount + van_gogh_top_100_amount + warhol_top_100_amount\n",
    "\n",
    "# напечатай общее количество картин\n",
    "print(total_top_100_amount)"
   ]
  },
  {
   "cell_type": "markdown",
   "metadata": {
    "id": "D8U3FVv2ykl4"
   },
   "source": [
    "<h3><strong><font color=\"#809BFF\">Задача №9</font></strong></h3>\n",
    "\n",
    "Для каждого художника вычисли разницу между самой поздней и самой ранней картиной в списке топ-100. На экране напечатай результат для Пабло Пикассо. Подумай над получившимися значениями — о чем они могут говорить?"
   ]
  },
  {
   "cell_type": "code",
   "execution_count": 7,
   "metadata": {
    "id": "rHOT8Z5nCNFu"
   },
   "outputs": [
    {
     "name": "stdout",
     "output_type": "stream",
     "text": [
      "54\n"
     ]
    }
   ],
   "source": [
    "# подставь нужное значение вместо многоточия\n",
    "picasso_creation_range = 1955 - 1901\n",
    "\n",
    "# переменная и значение для Винсента Ван Гога\n",
    "van_gogh_creation_range = 1890 - 1888\n",
    "\n",
    "# переменная и значение для Энди Уорхола\n",
    "warhol_creation_range = 1966 - 1962\n",
    "\n",
    "# напечатай результат для Пабло Пикассо\n",
    "print(picasso_creation_range)"
   ]
  },
  {
   "cell_type": "markdown",
   "metadata": {
    "id": "U8i0TnCdz5GI"
   },
   "source": [
    "<h3><strong><font color=\"#809BFF\">Задача №10</font></strong></h3>\n",
    "\n",
    "Вычисли долю картин каждого художника среди общего количества. Все значения, которые нужны для решения задачи, уже сохранены в свои переменные — используй их. На экране напечатай результат для Винсента Ван Гога."
   ]
  },
  {
   "cell_type": "code",
   "execution_count": 15,
   "metadata": {
    "id": "tsivhl_GDvst"
   },
   "outputs": [
    {
     "name": "stdout",
     "output_type": "stream",
     "text": [
      "0.25925925925925924\n"
     ]
    }
   ],
   "source": [
    "# доля Пабло Пикассо\n",
    "picasso_share = (picasso_top_100_amount / total_top_100_amount)\n",
    "\n",
    "# доля Винсента Ван Гога\n",
    "van_gogh_share = (van_gogh_top_100_amount / total_top_100_amount)\n",
    "\n",
    "# доля Энди Уорхола\n",
    "warhol_share = (warhol_top_100_amount / total_top_100_amount)\n",
    "\n",
    "# напечатай долю Винсента Ван Гога\n",
    "print(van_gogh_share)"
   ]
  },
  {
   "cell_type": "markdown",
   "metadata": {
    "id": "Mv3LcxDUAWtP"
   },
   "source": [
    "<h1><strong><font color=\"#FF732B\">Смотрим на промежуточный результат</font></strong></h1>"
   ]
  },
  {
   "cell_type": "markdown",
   "metadata": {
    "id": "dH-5EatdAZR8"
   },
   "source": [
    "<p><img src=\"https://u.foxford.ngcdn.ru/uploads/inner_file/file/92622/8repo.png\"></p>"
   ]
  },
  {
   "cell_type": "markdown",
   "metadata": {
    "id": "i7KImah_EBVy"
   },
   "source": [
    "<h1><strong><font color=\"#FC4262\">Домашняя работа</font></strong></h1>"
   ]
  },
  {
   "cell_type": "markdown",
   "metadata": {
    "id": "IroD4CG1VMFS"
   },
   "source": [
    "Вот несколько шагов, чтобы настроить удобную работу над домашними задачами:\n",
    "\n",
    "1. В сервисе [Google Drive](https://www.google.com/intl/ru/drive/) создай папку `foxford_ds_study`, в которой ты будешь хранить все учебные материалы с этого курса.\n",
    "2. Сохрани копию этой тетрадки `Лекция №1.ipynb` *(File → Save a copy in Drive)* в папку `foxford_ds_study`.\n",
    "\n",
    "Зачем это нужно? \n",
    "\n",
    "Файл, в котором работает преподаватель — это «оригинальный» файл и мы не можем работать в нем все вместе, ведь у каждого свой код! Каждому ученику необходимо сделать свою копию файла и выполнять домашку именно в ней. Если хочешь, ты можешь назвать свой файл по имени, например, `Лекция №1 Иван Кнопочкин.ipynb`.\n",
    "\n",
    "В начале следующей лекции мы обсудим эти задачи вместе."
   ]
  },
  {
   "cell_type": "markdown",
   "metadata": {
    "id": "34kQNkgHEDsw"
   },
   "source": [
    "<h3><strong><font color=\"#809BFF\">Задача №11</font></strong></h3>\n",
    "\n",
    "Вычисли, насколько доля картин Пабло Пикассо и Энди Уорхола в топ-100 больше доли картин Винсента Ван Гога и выведи результат на экран."
   ]
  },
  {
   "cell_type": "code",
   "execution_count": 20,
   "metadata": {
    "id": "1rvkwu2HEHkG"
   },
   "outputs": [
    {
     "name": "stdout",
     "output_type": "stream",
     "text": [
      "0.48148148148148145\n",
      "HOW 0.13? o_O\n"
     ]
    }
   ],
   "source": [
    "# напиши выражение\n",
    "print(picasso_share + warhol_share - van_gogh_share)\n",
    "\n",
    "print('HOW 0.13? o_O')"
   ]
  },
  {
   "cell_type": "markdown",
   "metadata": {
    "id": "dFSSaKqIS8-R"
   },
   "source": [
    "<div>\n",
    "  <details>\n",
    "    <summary>Подсказка 1/1</summary>\n",
    "    <p>Найди сумму долей Пабло Пикассо и Энди Уорхола и вычти из нее долю Винсента Ван Гога.</p>\n",
    "  </details>\n",
    "</div>\n",
    "\n",
    "<div>\n",
    "  <details>\n",
    "    <summary>Результат</summary>\n",
    "    <p>0.13</p>\n",
    "  </details>\n",
    "</div>"
   ]
  },
  {
   "cell_type": "markdown",
   "metadata": {
    "id": "qFPxh3GETc_d"
   },
   "source": [
    "<h3><strong><font color=\"#809BFF\">Задача №12</font></strong></h3>\n",
    "\n",
    "Обозначим картины с низкой стоимостью как те, цена которых менее 75 млн $. Посчитай среднюю стоимость таких картин и напечатай результат на экране."
   ]
  },
  {
   "cell_type": "code",
   "execution_count": 12,
   "metadata": {
    "id": "noI5ayGZTkNX"
   },
   "outputs": [
    {
     "name": "stdout",
     "output_type": "stream",
     "text": [
      "72.36\n"
     ]
    }
   ],
   "source": [
    "# кол-во картин\n",
    "least_price_amount = 5\n",
    "\n",
    "# общая стоимость\n",
    "least_price_cost = 74.3 + 72.8 + 72.7 + 71.5 + 70.5\n",
    "\n",
    "# средняя стоимость\n",
    "least_price_avg_price = least_price_cost / least_price_amount\n",
    "\n",
    "# напечатай результат\n",
    "print(least_price_avg_price)"
   ]
  },
  {
   "cell_type": "markdown",
   "metadata": {
    "id": "scgD_umFTsXt"
   },
   "source": [
    "<div>\n",
    "  <details>\n",
    "\t  <summary>Подсказка 1/1</summary>\n",
    "    <p>Среднее значение — это число, равное сумме всех чисел множества, делённое на их количество.</p>\n",
    "  </details>\n",
    "</div>\n",
    "\n",
    "<div>\n",
    "  <details>\n",
    "\t  <summary>Результат</summary>\n",
    "    <p>72.36</p>\n",
    "  </details>\n",
    "</div>"
   ]
  },
  {
   "cell_type": "markdown",
   "metadata": {
    "id": "pMp6pkNFW2pO"
   },
   "source": [
    "<h3><strong><font color=\"#809BFF\">Задача №13</font></strong></h3>\n",
    "\n",
    "Обозначим картины с высокой стоимостью как те, цена которых более 124 млн $. Посчитай среднюю стоимость таких картин и напечатай результат на экране."
   ]
  },
  {
   "cell_type": "code",
   "execution_count": 13,
   "metadata": {
    "id": "f5821_b5W9nj"
   },
   "outputs": [
    {
     "name": "stdout",
     "output_type": "stream",
     "text": [
      "158.16\n"
     ]
    }
   ],
   "source": [
    "most_price_amount = 5\n",
    "most_price_cost = 193.5 + 170.1 + 161.4 + 141 + 124.8\n",
    "most_price_avg_price = most_price_cost / most_price_amount\n",
    "\n",
    "print(most_price_avg_price)"
   ]
  },
  {
   "cell_type": "markdown",
   "metadata": {
    "id": "PpnZMckbXBDA"
   },
   "source": [
    "<div>\n",
    "  <details>\n",
    "\t  <summary>Подсказка 1/1</summary>\n",
    "    <p>Среднее значение — это число, равное сумме всех чисел множества, делённое на их количество.</p>\n",
    "  </details>\n",
    "</div>\n",
    "\n",
    "<div>\n",
    "  <details>\n",
    "\t  <summary>Результат</summary>\n",
    "    <p>158.16</p>\n",
    "  </details>\n",
    "</div>"
   ]
  },
  {
   "cell_type": "markdown",
   "metadata": {},
   "source": [
    "<h3><strong><font color=\"#80AF4B\">Отправка решения</font></strong></h3>"
   ]
  },
  {
   "cell_type": "code",
   "execution_count": 23,
   "metadata": {},
   "outputs": [
    {
     "name": "stderr",
     "output_type": "stream",
     "text": [
      "Aborting commit due to empty commit message.\n",
      "Everything up-to-date\n"
     ]
    }
   ],
   "source": [
    "!git add *1.ipynb\n",
    "!git commit\n",
    "!git push"
   ]
  },
  {
   "cell_type": "code",
   "execution_count": null,
   "metadata": {},
   "outputs": [],
   "source": []
  }
 ],
 "metadata": {
  "colab": {
   "collapsed_sections": [],
   "include_colab_link": true,
   "name": "Лекция №1.ipynb",
   "provenance": [],
   "toc_visible": true
  },
  "kernelspec": {
   "display_name": "Python 3 (ipykernel)",
   "language": "python",
   "name": "python3"
  },
  "language_info": {
   "codemirror_mode": {
    "name": "ipython",
    "version": 3
   },
   "file_extension": ".py",
   "mimetype": "text/x-python",
   "name": "python",
   "nbconvert_exporter": "python",
   "pygments_lexer": "ipython3",
   "version": "3.9.0"
  }
 },
 "nbformat": 4,
 "nbformat_minor": 1
}
