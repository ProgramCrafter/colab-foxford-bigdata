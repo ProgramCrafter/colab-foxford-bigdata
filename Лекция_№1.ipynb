{
  "nbformat": 4,
  "nbformat_minor": 0,
  "metadata": {
    "colab": {
      "name": "Лекция №1.ipynb",
      "provenance": [],
      "collapsed_sections": [],
      "toc_visible": true,
      "include_colab_link": true
    },
    "kernelspec": {
      "name": "python3",
      "display_name": "Python 3"
    },
    "language_info": {
      "name": "python"
    }
  },
  "cells": [
    {
      "cell_type": "markdown",
      "metadata": {
        "id": "view-in-github",
        "colab_type": "text"
      },
      "source": [
        "<a href=\"https://colab.research.google.com/github/ProgramCrafter/colab-foxford-bigdata/blob/master/%D0%9B%D0%B5%D0%BA%D1%86%D0%B8%D1%8F_%E2%84%961.ipynb\" target=\"_parent\"><img src=\"https://colab.research.google.com/assets/colab-badge.svg\" alt=\"Open In Colab\"/></a>"
      ]
    },
    {
      "cell_type": "markdown",
      "metadata": {
        "id": "goKCGXSUoln1"
      },
      "source": [
        "<p><img src=\"https://u.foxford.ngcdn.ru/uploads/inner_file/file/98155/upd1.jpg\"></p>"
      ]
    },
    {
      "cell_type": "markdown",
      "metadata": {
        "id": "fTAUCMGRqM75"
      },
      "source": [
        "___\n",
        "\n",
        "<font color=\"#000000\">Основы Python и глубокого обучения</font>\n",
        "<font color=\"#AEBAC5\"> → </font>\n",
        "<font color=\"#AEBAC5\">Компьютерное зрение (CV)</font>\n",
        "<font color=\"#AEBAC5\"> → </font>\n",
        "<font color=\"#AEBAC5\">Обработка естественного языка (NLP)</font>\n",
        "\n",
        "___"
      ]
    },
    {
      "cell_type": "markdown",
      "metadata": {
        "id": "cZHtFxVrb4iy"
      },
      "source": [
        "<h1><strong><font color=\"#FF732B\">Кто такие эти ваши ноутбуки?</font></strong></h1>"
      ]
    },
    {
      "cell_type": "markdown",
      "metadata": {
        "id": "W3AuG5bGomY1"
      },
      "source": [
        "<h3><strong><font color=\"#809BFF\">Задача №1</font></strong></h3>\n",
        "\n",
        "Ниже расположен код на языке Python, который отвечает за вывод информации на экран. Перейди в эту ячейку и нажми `Command/Ctrl` + `Enter` на клавиатуре или кликни на кнопку Play слева от строчки кода (самый первый вызов — не моментальный и требует 3-4 секунды, это нормально)."
      ]
    },
    {
      "cell_type": "code",
      "metadata": {
        "id": "jJmD3GpYvpO1",
        "outputId": "3073d70a-0d87-40ef-9a91-b977cfe8c470",
        "colab": {
          "base_uri": "https://localhost:8080/"
        }
      },
      "source": [
        "# выполни код в ячейке\n",
        "print('Отлично! Не так уж и сложно.')"
      ],
      "execution_count": 1,
      "outputs": [
        {
          "output_type": "stream",
          "name": "stdout",
          "text": [
            "Отлично! Не так уж и сложно.\n"
          ]
        }
      ]
    },
    {
      "cell_type": "markdown",
      "metadata": {
        "id": "xo1BVeJBPuRv"
      },
      "source": [
        "<p><img src=\"https://u.foxford.ngcdn.ru/uploads/inner_file/file/98336/upd5.png\"></p>"
      ]
    },
    {
      "cell_type": "markdown",
      "metadata": {
        "id": "CVxl0W3SrdyI"
      },
      "source": [
        "<h1><strong><font color=\"#FF732B\">Знакомимся с первыми данными</font></strong></h1>"
      ]
    },
    {
      "cell_type": "markdown",
      "metadata": {
        "id": "y3c48KCq8yQV"
      },
      "source": [
        "<p><img src=\"https://u.foxford.ngcdn.ru/uploads/inner_file/file/92609/3art.png\"></p>"
      ]
    },
    {
      "cell_type": "markdown",
      "metadata": {
        "id": "I-sGbafF2Rr2"
      },
      "source": [
        "| Стоимость, млн $ | Название | Художник | Год создания | Аукционный дом |\n",
        "--- | --- | --- | --- | ---\n",
        "| 193.5 | Алжирские женщины («Версия O») | Пабло Пикассо 🇪🇸 | 1955 | Christie's |\n",
        "| 170.1 | Сон | Пабло Пикассо 🇪🇸 | 1932 | Другой |\n",
        "| 161.4 | Портрет доктора Гаше | Винсент Ван Гог 🇳🇱 | 1890 | Christie's |\n",
        "| 141 | Мальчик с трубкой | Пабло Пикассо 🇪🇸 | 1905 | Sotheby's |\n",
        "| 124.8 | Обнажённая, зелёные листья и бюст | Пабло Пикассо 🇪🇸 | 1932 | Christie's |\n",
        "| 121.3 | Ирисы | Винсент Ван Гог 🇳🇱 | 1889 | Sotheby's |\n",
        "| 120.8 | Дора Маар с кошкой | Пабло Пикассо 🇪🇸 | 1941 | Sotheby's |\n",
        "| 117.1 | Молодая девушка с цветочной корзиной | Пабло Пикассо 🇪🇸 | 1905 | Christie's |\n",
        "| 115.7 | Авария серебряной машины (Двойная катастрофа) | Энди Уорхол 🇺🇸 | 1963 | Sotheby's |\n",
        "| 112.2 | Автопортрет без бороды | Винсент Ван Гог 🇳🇱 | 1889 | Christie's |\n",
        "| 101.7 | Свадьба Пьеретты | Пабло Пикассо 🇪🇸 | 1905 | Другой |\n",
        "| 98.7 | Я, Пикассо | Пабло Пикассо 🇪🇸 | 1901 | Sotheby's |\n",
        "| 89.3 | Подсолнухи | Винсент Ван Гог 🇳🇱 | 1889 | Christie's |\n",
        "| 88.5 | Тройной Элвис | Энди Уорхол 🇺🇸 | 1963 | Christie's |\n",
        "| 88.4 | Авария зелёной машины | Энди Уорхол 🇺🇸 | 1963 | Christie's |\n",
        "| 84.8 | Огороженное поле с пахарем | Винсент Ван Гог 🇳🇱 | 1889 | Christie's |\n",
        "| 83.9 | Проворный кролик | Пабло Пикассо 🇪🇸 | 1904 | Sotheby's |\n",
        "| 83.3 | Акробат и молодой Арлекин | Пабло Пикассо 🇪🇸 | 1905 | Christie's |\n",
        "| 81.7 | Женщина со скрещёнными руками | Пабло Пикассо 🇪🇸 | 1902 | Christie's |\n",
        "| 76 | Женщина, сидящая в саду | Пабло Пикассо 🇪🇸 | 1938 | Sotheby's |\n",
        "| 75.7 | Молодая крестьянка в соломенной шляпке, сидящая в пшенице | Винсент Ван Гог 🇳🇱 | 1890 | Другой |\n",
        "| 75.2 | Четыре Марлона | Энди Уорхол 🇺🇸 | 1966 | Christie's |\n",
        "| 74.3 | Мужчины в ее жизни | Энди Уорхол 🇺🇸 | 1962 | Другой |\n",
        "| 72.8 | Певица кабаре | Пабло Пикассо 🇪🇸 | 1901 | Sotheby's |\n",
        "| 72.7 | Бюст женщины (Дора Маар) | Пабло Пикассо 🇪🇸 | 1938 | Christie's |\n",
        "| 71.5 | Аллея Алискана | Винсент Ван Гог 🇳🇱 | 1888 | Sotheby's |\n",
        "| 70.5 | Женщина в берете и клетчатом платье (Мария Тереза Вальтер) | Пабло Пикассо 🇪🇸 | 1937 | Sotheby's |\n",
        "| | | | | |\n",
        "| | | | | *Таблица 1.0* |"
      ]
    },
    {
      "cell_type": "markdown",
      "metadata": {
        "id": "oUZtX5NpuQmA"
      },
      "source": [
        "<p><img src=\"https://u.foxford.ngcdn.ru/uploads/inner_file/file/92612/4report.png\"></p>"
      ]
    },
    {
      "cell_type": "markdown",
      "metadata": {
        "id": "bXzVU6r431of"
      },
      "source": [
        "<h1><strong><font color=\"#FF732B\">Складываем, вычитаем, умножаем и делим</font></strong></h1>"
      ]
    },
    {
      "cell_type": "markdown",
      "metadata": {
        "id": "8ZXvGh8XUmP_"
      },
      "source": [
        "<p><img src=\"https://u.foxford.ngcdn.ru/uploads/inner_file/file/92616/5oper.png\"></p>"
      ]
    },
    {
      "cell_type": "markdown",
      "metadata": {
        "id": "H4W5Q_knGEzx"
      },
      "source": [
        "<h3><strong><font color=\"#809BFF\">Задача №2</font></strong></h3>\n",
        "\n",
        "Вычисли разницу в датах создания картин «Алжирские женщины» и «Обнажённая, зелёные листья и бюст» Пабло Пикассо. Подставь значения и выполни код."
      ]
    },
    {
      "cell_type": "code",
      "metadata": {
        "id": "a9c8e2E5GLlk",
        "outputId": "2aa723a5-1883-487f-df71-0b397ebfa7d7",
        "colab": {
          "base_uri": "https://localhost:8080/"
        }
      },
      "source": [
        "# подставь значения вместо многоточий\n",
        "print(1955 - 1932)"
      ],
      "execution_count": 2,
      "outputs": [
        {
          "output_type": "stream",
          "name": "stdout",
          "text": [
            "23\n"
          ]
        }
      ]
    },
    {
      "cell_type": "markdown",
      "metadata": {
        "id": "8y5gdA1vGTez"
      },
      "source": [
        "<h3><strong><font color=\"#809BFF\">Задача №3</font></strong></h3>\n",
        "\n",
        "Вычисли общую стоимость картин «Авария серебряной машины (Двойная катастрофа)», «Тройной Элвис» и «Мужчины в ее жизни» Энди Уорхола. Напиши выражение и выполни код."
      ]
    },
    {
      "cell_type": "code",
      "metadata": {
        "id": "XPFYYyG_GaXc"
      },
      "source": [
        "# напиши выражение\n",
        "print(...)"
      ],
      "execution_count": null,
      "outputs": []
    },
    {
      "cell_type": "markdown",
      "metadata": {
        "id": "hW5qsYHXV2x0"
      },
      "source": [
        "<h3><strong><font color=\"#809BFF\">Задача №4</font></strong></h3>\n",
        "\n",
        "Вычисли, насколько 3 самые дорогие картины Пабло Пикассо дороже 3-х самых дорогих картин Винсента Ван Гога. Подставь значения и выполни код."
      ]
    },
    {
      "cell_type": "code",
      "metadata": {
        "id": "0Ag9-mxFV8Wu"
      },
      "source": [
        "# напиши выражение\n",
        "\n",
        "print(...)"
      ],
      "execution_count": null,
      "outputs": []
    },
    {
      "cell_type": "markdown",
      "metadata": {
        "id": "HVPBI6BvHARH"
      },
      "source": [
        "<h3><strong><font color=\"#809BFF\">Задача №5</font></strong></h3>\n",
        "\n",
        "Вычисли, насколько 2 самые дорогие картины, проданные аукционным домом Christie's дороже 2-х самых дорогих картин, проданных Sotheby's. Напиши выражение и выполни код."
      ]
    },
    {
      "cell_type": "code",
      "metadata": {
        "id": "BMbZ5mv6HGIB"
      },
      "source": [
        "# напиши выражение\n",
        "print(...)"
      ],
      "execution_count": null,
      "outputs": []
    },
    {
      "cell_type": "markdown",
      "metadata": {
        "id": "H3wT0wLZ_s1F"
      },
      "source": [
        "<h3><strong><font color=\"#809BFF\">Задача №6</font></strong></h3>\n",
        "\n",
        "Вычисли, насколько доля картин Винсента Ван Гога и Энди Уорхола, проданных аукционными домами Christie's и Sotheby's, меньше доли картин всех остальных художников в топ-100, проданных всеми аукционными домами. Будь внимателен, беря отдельные выражения в скобки. Напечатай результат на экране."
      ]
    },
    {
      "cell_type": "code",
      "metadata": {
        "id": "b1kXdOJj-JQG"
      },
      "source": [
        "# напиши выражение\n",
        "\n",
        "print(...)"
      ],
      "execution_count": null,
      "outputs": []
    },
    {
      "cell_type": "markdown",
      "metadata": {
        "id": "IKYx9DC035xi"
      },
      "source": [
        "<h1><strong><font color=\"#FF732B\">Сохраняем нужные значения</font></strong></h1>"
      ]
    },
    {
      "cell_type": "markdown",
      "metadata": {
        "id": "6E3NFPS1UczV"
      },
      "source": [
        "<p><img src=\"https://u.foxford.ngcdn.ru/uploads/inner_file/file/92618/6var.png\"></p>"
      ]
    },
    {
      "cell_type": "markdown",
      "metadata": {
        "id": "pLlbYrl4CWKS"
      },
      "source": [
        "<h3><strong><font color=\"#809BFF\">Задача №7</font></strong></h3>\n",
        "\n",
        "Узнай продолжительность жизни каждого художника и сохрани соответствующие значения в переменные. Напечатай результат для одного из художников."
      ]
    },
    {
      "cell_type": "code",
      "metadata": {
        "id": "fQKe58hgCd_v"
      },
      "source": [
        "# подставь нужное значение вместо многоточия\n",
        "picasso_lifetime = ...\n",
        "\n",
        "# объяви переменную для Винсента Ван Гога и сохраните в нее значение\n",
        "...\n",
        "\n",
        "# переменная и значение для Энди Уорхола\n",
        "...\n",
        "\n",
        "# напечатай результат для Винсента Ван Гога\n",
        "print(...)"
      ],
      "execution_count": null,
      "outputs": []
    },
    {
      "cell_type": "markdown",
      "metadata": {
        "id": "x7R_wNfNQOh9"
      },
      "source": [
        "<p><img src=\"https://u.foxford.ngcdn.ru/uploads/inner_file/file/92620/7repo.png\"></p>"
      ]
    },
    {
      "cell_type": "markdown",
      "metadata": {
        "id": "Pef7us8g0PhV"
      },
      "source": [
        "<h3><strong><font color=\"#809BFF\">Задача №8</font></strong></h3>\n",
        "\n",
        "Посчитай, сколько картин каждого художника находится в списке топ-100. Общее количество картин всех 3-х художников — также сохрани в отдельную переменную и напечатай это значение на экране."
      ]
    },
    {
      "cell_type": "code",
      "metadata": {
        "id": "UsK4SsCAAuXY"
      },
      "source": [
        "# подставь нужное значение вместо троеточия\n",
        "picasso_top_100_amount = ...\n",
        "\n",
        "# объяви переменную для Винсента Ван Гога и сохрани в нее значение\n",
        "...\n",
        "\n",
        "# переменная и значение для Энди Уорхола\n",
        "...\n",
        "\n",
        "# общее количество картин\n",
        "total_top_100_amount = ...\n",
        "\n",
        "# напечатай общее количество картин\n",
        "print(...)"
      ],
      "execution_count": null,
      "outputs": []
    },
    {
      "cell_type": "markdown",
      "metadata": {
        "id": "D8U3FVv2ykl4"
      },
      "source": [
        "<h3><strong><font color=\"#809BFF\">Задача №9</font></strong></h3>\n",
        "\n",
        "Для каждого художника вычисли разницу между самой поздней и самой ранней картиной в списке топ-100. На экране напечатай результат для Пабло Пикассо. Подумай над получившимися значениями — о чем они могут говорить?"
      ]
    },
    {
      "cell_type": "code",
      "metadata": {
        "id": "rHOT8Z5nCNFu"
      },
      "source": [
        "# подставь нужное значение вместо многоточия\n",
        "picasso_creation_range = ...\n",
        "\n",
        "# переменная и значение для Винсента Ван Гога\n",
        "...\n",
        "\n",
        "# переменная и значение для Энди Уорхола\n",
        "...\n",
        "\n",
        "# напечатай результат для Пабло Пикассо\n",
        "print(...)"
      ],
      "execution_count": null,
      "outputs": []
    },
    {
      "cell_type": "markdown",
      "metadata": {
        "id": "U8i0TnCdz5GI"
      },
      "source": [
        "<h3><strong><font color=\"#809BFF\">Задача №10</font></strong></h3>\n",
        "\n",
        "Вычисли долю картин каждого художника среди общего количества. Все значения, которые нужны для решения задачи, уже сохранены в свои переменные — используй их. На экране напечатай результат для Винсента Ван Гога."
      ]
    },
    {
      "cell_type": "code",
      "metadata": {
        "id": "tsivhl_GDvst"
      },
      "source": [
        "# доля Пабло Пикассо\n",
        "picasso_share = ...\n",
        "\n",
        "# доля Винсента Ван Гога\n",
        "...\n",
        "\n",
        "# доля Энди Уорхола\n",
        "...\n",
        "\n",
        "# напечатай долю Винсента Ван Гога\n",
        "print(...)"
      ],
      "execution_count": null,
      "outputs": []
    },
    {
      "cell_type": "markdown",
      "metadata": {
        "id": "Mv3LcxDUAWtP"
      },
      "source": [
        "<h1><strong><font color=\"#FF732B\">Смотрим на промежуточный результат</font></strong></h1>"
      ]
    },
    {
      "cell_type": "markdown",
      "metadata": {
        "id": "dH-5EatdAZR8"
      },
      "source": [
        "<p><img src=\"https://u.foxford.ngcdn.ru/uploads/inner_file/file/92622/8repo.png\"></p>"
      ]
    },
    {
      "cell_type": "markdown",
      "metadata": {
        "id": "i7KImah_EBVy"
      },
      "source": [
        "<h1><strong><font color=\"#FC4262\">Домашняя работа</font></strong></h1>"
      ]
    },
    {
      "cell_type": "markdown",
      "metadata": {
        "id": "IroD4CG1VMFS"
      },
      "source": [
        "Вот несколько шагов, чтобы настроить удобную работу над домашними задачами:\n",
        "\n",
        "1. В сервисе [Google Drive](https://www.google.com/intl/ru/drive/) создай папку `foxford_ds_study`, в которой ты будешь хранить все учебные материалы с этого курса.\n",
        "2. Сохрани копию этой тетрадки `Лекция №1.ipynb` *(File → Save a copy in Drive)* в папку `foxford_ds_study`.\n",
        "\n",
        "Зачем это нужно? \n",
        "\n",
        "Файл, в котором работает преподаватель — это «оригинальный» файл и мы не можем работать в нем все вместе, ведь у каждого свой код! Каждому ученику необходимо сделать свою копию файла и выполнять домашку именно в ней. Если хочешь, ты можешь назвать свой файл по имени, например, `Лекция №1 Иван Кнопочкин.ipynb`.\n",
        "\n",
        "В начале следующей лекции мы обсудим эти задачи вместе."
      ]
    },
    {
      "cell_type": "markdown",
      "metadata": {
        "id": "34kQNkgHEDsw"
      },
      "source": [
        "<h3><strong><font color=\"#809BFF\">Задача №11</font></strong></h3>\n",
        "\n",
        "Вычисли, насколько доля картин Пабло Пикассо и Энди Уорхола в топ-100 больше доли картин Винсента Ван Гога и выведи результат на экран."
      ]
    },
    {
      "cell_type": "code",
      "metadata": {
        "id": "1rvkwu2HEHkG"
      },
      "source": [
        "# напиши выражение\n",
        "print(...)"
      ],
      "execution_count": null,
      "outputs": []
    },
    {
      "cell_type": "markdown",
      "metadata": {
        "id": "dFSSaKqIS8-R"
      },
      "source": [
        "<div>\n",
        "  <details>\n",
        "    <summary>Подсказка 1/1</summary>\n",
        "    <p>Найди сумму долей Пабло Пикассо и Энди Уорхола и вычти из нее долю Винсента Ван Гога.</p>\n",
        "  </details>\n",
        "</div>\n",
        "\n",
        "<div>\n",
        "  <details>\n",
        "    <summary>Результат</summary>\n",
        "    <p>0.13</p>\n",
        "  </details>\n",
        "</div>"
      ]
    },
    {
      "cell_type": "markdown",
      "metadata": {
        "id": "qFPxh3GETc_d"
      },
      "source": [
        "<h3><strong><font color=\"#809BFF\">Задача №12</font></strong></h3>\n",
        "\n",
        "Обозначим картины с низкой стоимостью как те, цена которых менее 75 млн $. Посчитай среднюю стоимость таких картин и напечатай результат на экране."
      ]
    },
    {
      "cell_type": "code",
      "metadata": {
        "id": "noI5ayGZTkNX"
      },
      "source": [
        "# кол-во картин\n",
        "least_price_amount = ...\n",
        "\n",
        "# общая стоимость\n",
        "...\n",
        "\n",
        "# средняя стоимость\n",
        "...\n",
        "\n",
        "# напечатай результат\n",
        "..."
      ],
      "execution_count": null,
      "outputs": []
    },
    {
      "cell_type": "markdown",
      "metadata": {
        "id": "scgD_umFTsXt"
      },
      "source": [
        "<div>\n",
        "  <details>\n",
        "\t  <summary>Подсказка 1/1</summary>\n",
        "    <p>Среднее значение — это число, равное сумме всех чисел множества, делённое на их количество.</p>\n",
        "  </details>\n",
        "</div>\n",
        "\n",
        "<div>\n",
        "  <details>\n",
        "\t  <summary>Результат</summary>\n",
        "    <p>72.36</p>\n",
        "  </details>\n",
        "</div>"
      ]
    },
    {
      "cell_type": "markdown",
      "metadata": {
        "id": "pMp6pkNFW2pO"
      },
      "source": [
        "<h3><strong><font color=\"#809BFF\">Задача №13</font></strong></h3>\n",
        "\n",
        "Обозначим картины с высокой стоимостью как те, цена которых более 124 млн $. Посчитай среднюю стоимость таких картин и напечатай результат на экране."
      ]
    },
    {
      "cell_type": "code",
      "metadata": {
        "id": "f5821_b5W9nj"
      },
      "source": [
        "# напиши код"
      ],
      "execution_count": null,
      "outputs": []
    },
    {
      "cell_type": "markdown",
      "metadata": {
        "id": "PpnZMckbXBDA"
      },
      "source": [
        "<div>\n",
        "  <details>\n",
        "\t  <summary>Подсказка 1/1</summary>\n",
        "    <p>Среднее значение — это число, равное сумме всех чисел множества, делённое на их количество.</p>\n",
        "  </details>\n",
        "</div>\n",
        "\n",
        "<div>\n",
        "  <details>\n",
        "\t  <summary>Результат</summary>\n",
        "    <p>158.16</p>\n",
        "  </details>\n",
        "</div>"
      ]
    }
  ]
}